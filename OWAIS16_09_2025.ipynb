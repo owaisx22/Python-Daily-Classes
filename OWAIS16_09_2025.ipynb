{
  "nbformat": 4,
  "nbformat_minor": 0,
  "metadata": {
    "colab": {
      "provenance": []
    },
    "kernelspec": {
      "name": "python3",
      "display_name": "Python 3"
    },
    "language_info": {
      "name": "python"
    }
  },
  "cells": [
    {
      "cell_type": "code",
      "execution_count": null,
      "metadata": {
        "colab": {
          "base_uri": "https://localhost:8080/"
        },
        "id": "KCJZrzL9o4cF",
        "outputId": "3b92a80c-5659-407b-9a80-e95c0204049c"
      },
      "outputs": [
        {
          "output_type": "stream",
          "name": "stdout",
          "text": [
            "['Laptop', 39000, 'Widow', 'Lenovo', 'Bengaluru', 'laptop', 39000, 'MAC', 'Lenovo', 'Chikodi']\n",
            "2\n"
          ]
        }
      ],
      "source": [
        "Example = [\"Laptop\", 39000, \"Widow\", \"Lenovo\",\"Bengaluru\",\"laptop\",39000,\"MAC\",\"Lenovo\",\"Chikodi\"]\n",
        "print(Example)\n",
        "print(Example.count(\"Lenovo\"))\n"
      ]
    },
    {
      "cell_type": "code",
      "source": [
        "# Run time programe\n",
        "\n",
        "X = int(input(\"Enter a X value:\"))\n",
        "Y = int(input(\"Enter a Y value:\"))\n",
        "print(\"Addition of\",X,\"and\",Y,\"value is =\",X + Y)\n"
      ],
      "metadata": {
        "colab": {
          "base_uri": "https://localhost:8080/"
        },
        "id": "U8XT6UDorkD5",
        "outputId": "c3206271-b716-4874-e659-cb40980e82bb"
      },
      "execution_count": null,
      "outputs": [
        {
          "output_type": "stream",
          "name": "stdout",
          "text": [
            "Enter a X value:100\n",
            "Enter a Y value:50\n",
            "Addition of 100 and 50 value is = 150\n"
          ]
        }
      ]
    },
    {
      "cell_type": "code",
      "source": [
        "\n",
        "first_name = input(\"Enter first name :\")\n",
        "last_name = input(\"Enter last name :\")\n",
        "print(first_name+ \" \"+last_name)\n"
      ],
      "metadata": {
        "id": "hqN0mYM0trMm"
      },
      "execution_count": null,
      "outputs": []
    },
    {
      "cell_type": "code",
      "source": [
        "I = int(input(\"Enter a I value :\"))\n",
        "J = int(input(\"Enter a J value :\"))\n",
        "print( I * J)"
      ],
      "metadata": {
        "id": "Y7YAZqYNxsWV"
      },
      "execution_count": null,
      "outputs": []
    },
    {
      "cell_type": "code",
      "source": [
        "i = input()\n",
        "j = input()\n",
        "print(i + j)"
      ],
      "metadata": {
        "id": "5N_tNfDJ2C9r"
      },
      "execution_count": null,
      "outputs": []
    },
    {
      "cell_type": "code",
      "source": [
        "X = 100\n",
        "Y = 50\n",
        "print(f'Addition of{X} and {Y} value is = {X + Y}')\n"
      ],
      "metadata": {
        "id": "JCW7Z5eF4Tdj"
      },
      "execution_count": null,
      "outputs": []
    },
    {
      "cell_type": "code",
      "source": [
        "X =\n",
        "Y =\n",
        "print(f'Division of {X} and {Y} value is = {X / Y}')"
      ],
      "metadata": {
        "id": "dcj8Uznr46vc"
      },
      "execution_count": null,
      "outputs": []
    },
    {
      "cell_type": "code",
      "source": [
        "# Hi, Good Morning My name is Owais, i have completed MCA in the year of 2022, currently i'm working in KLE BK BCA College Chikodi 591201\n",
        "Name = \"Owais\"\n",
        "Course = \"MCA\"\n",
        "Year = 2022\n",
        "Department = \"BCA\"\n",
        "Pincode = 591201\n",
        "print(f\"Hi,Good Morning My name is {Name},i have completed {Course} in the year of {Year},currently i'm working in KLE BK {Department} College Chikodi {Pincode}\")"
      ],
      "metadata": {
        "id": "5XjbKMqk5OCc"
      },
      "execution_count": null,
      "outputs": []
    },
    {
      "cell_type": "code",
      "source": [
        "Num1 = int(input(\"Enter a Num1 value :\"))\n",
        "Num2 = int(input(\"Enter a Num2 value :\"))\n",
        "print(\"Addition of two numbers is :\", Num1 + Num2)\n",
        "print()\n",
        "print(\"Multiplication of two numbers is :\", Num1 * Num2)\n",
        "print()\n",
        "print(\"Subtraction of two numbers is :\", Num1 - Num2)\n",
        "print()\n",
        "print(\"Division of two numbers is :\", Num1 / Num2)\n",
        "print()\n",
        "print(\"Floor Division of two numbers is :\", Num1 // Num2)\n",
        "print()\n",
        "print(\"Modulus of two numbers is :\", Num1 % Num2)\n",
        "print()\n",
        "X = 5\n",
        "Y = 3\n",
        "print(\"Exponent of two numbers is :\", X ** Y)"
      ],
      "metadata": {
        "id": "tIc2YsLa9s76"
      },
      "execution_count": null,
      "outputs": []
    },
    {
      "cell_type": "code",
      "source": [
        "\n",
        "print(Num1 <= Num2)\n",
        "print(Num1 >= Num2)\n",
        "print(Num1 == Num2)\n",
        "print(Num1 != Num2)\n"
      ],
      "metadata": {
        "id": "DWqvnOUWHbAw"
      },
      "execution_count": null,
      "outputs": []
    },
    {
      "cell_type": "code",
      "source": [
        "a = 20\n",
        "b =35\n",
        "c =13\n",
        "d =10\n",
        "\n",
        "print(a == b and c < d)\n",
        "\n",
        "print(13 != c and d < c)\n",
        "\n",
        "print( b > a and d < c)\n",
        "\n",
        "print(20 != a and c ==b)\n",
        "\n",
        "print(a < b or d == c)\n",
        "\n",
        "print( (not (a < b) ) and 100 < 200)\n",
        "\n",
        "print(not(d  == 10 ))\n",
        "\n",
        "print(35 != d or (not(20 == a)))\n",
        "\n",
        "print(not(c <= b and(not(a <= c))))"
      ],
      "metadata": {
        "id": "Jt3eo6vCRddH"
      },
      "execution_count": null,
      "outputs": []
    },
    {
      "cell_type": "code",
      "source": [
        "X = 10\n",
        "print(X)\n",
        "\n",
        "X -= 2\n",
        "print(X)\n",
        "\n",
        "X *= 5\n",
        "print(X)\n",
        "\n",
        "X //= 3\n",
        "print(X)\n",
        "\n",
        "X **= 2\n",
        "print(X)\n",
        "\n",
        "X %= 4\n",
        "print(X)\n",
        "\n",
        "X += 9\n",
        "print(X)\n",
        "\n",
        "X /= 3\n",
        "print(X)"
      ],
      "metadata": {
        "id": "_1vhBbcDSPR1"
      },
      "execution_count": null,
      "outputs": []
    },
    {
      "cell_type": "code",
      "source": [
        "Num = 9\n",
        "if Num < 10 :\n",
        "  print(\"10 is a greater than 9\")\n"
      ],
      "metadata": {
        "id": "WhNEvdPyYA47"
      },
      "execution_count": null,
      "outputs": []
    },
    {
      "cell_type": "code",
      "source": [
        "User_id = \"20MCA103\"\n",
        "Password = 1234\n",
        "if User_id == \"20MCA103\" and Password == 1234:\n",
        "    print(\"Login Successfully\")\n"
      ],
      "metadata": {
        "id": "6GiLvwUFu0Vw"
      },
      "execution_count": null,
      "outputs": []
    },
    {
      "cell_type": "code",
      "source": [
        "Ex = 59\n",
        "if Ex == 58 :\n",
        "  print (\"Are you understand\")"
      ],
      "metadata": {
        "id": "R1r9J-EJvuWr"
      },
      "execution_count": null,
      "outputs": []
    },
    {
      "cell_type": "code",
      "source": [
        "Name = \"Owais\"\n",
        "if Name <= \"BKC\":\n",
        "  print(\"My name is Owais\")"
      ],
      "metadata": {
        "id": "pg3GU3yrwVoK"
      },
      "execution_count": null,
      "outputs": []
    },
    {
      "cell_type": "code",
      "source": [
        "Num = int(intup(\"Enter a number value :\"))\n",
        "if Num > 0 :\n",
        "  print(\"Positive number\")\n",
        "else :\n",
        "  print(\"Negative number\")"
      ],
      "metadata": {
        "id": "jcpoyp0fww_K"
      },
      "execution_count": null,
      "outputs": []
    }
  ]
}