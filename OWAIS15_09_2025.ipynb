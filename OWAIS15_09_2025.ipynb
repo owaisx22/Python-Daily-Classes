{
  "cells": [
    {
      "cell_type": "code",
      "execution_count": null,
      "metadata": {
        "colab": {
          "base_uri": "https://localhost:8080/"
        },
        "id": "k_pfJ80khSZ7",
        "outputId": "c2fd381d-24e7-4511-a976-5c937665dc24"
      },
      "outputs": [
        {
          "name": "stdout",
          "output_type": "stream",
          "text": [
            "(1, 'Sharath', 3.12, False)\n",
            "4\n",
            "<class 'tuple'>\n",
            "1\n",
            "(1, 'Sharath', 3.12)\n",
            "False\n",
            "False\n"
          ]
        }
      ],
      "source": [
        "Example = (1,\"Sharath\",3.12,False)\n",
        "print(Example)\n",
        "print(len(Example))\n",
        "print(type(Example))\n",
        "print(Example.count(1))\n",
        "print(Example[0:3])\n",
        "print(Example[3])\n",
        "print(Example[-1])\n",
        "\n"
      ]
    },
    {
      "cell_type": "code",
      "execution_count": null,
      "metadata": {
        "colab": {
          "base_uri": "https://localhost:8080/"
        },
        "id": "sI4Bu2Y0jM4L",
        "outputId": "306e3145-a1e6-4579-a7cb-d5cce50fc00d"
      },
      "outputs": [
        {
          "name": "stdout",
          "output_type": "stream",
          "text": [
            "(2, 4, 7, 9, 3, 9, 3, 2)\n",
            "(2, 4, 7, 9, 3, 9, 3, 2, 2, 4, 5, 7)\n",
            "(2, 4, 5, 7, 2, 4, 5, 7, 2, 4, 5, 7, 2, 4, 5, 7)\n"
          ]
        }
      ],
      "source": [
        "Number = (2,4,7,9,3,9,3,2)\n",
        "print(Number)\n",
        "Add = (2,4,5,7)\n",
        "print(Number + Add)\n",
        "print(Add * 4)"
      ]
    },
    {
      "cell_type": "code",
      "execution_count": null,
      "metadata": {
        "colab": {
          "base_uri": "https://localhost:8080/"
        },
        "id": "ERASpNsSnCXc",
        "outputId": "5b07cb0e-c20c-48d6-cf57-128c3481cac8"
      },
      "outputs": [
        {
          "name": "stdout",
          "output_type": "stream",
          "text": [
            "{1, 2, 3, 4, 5}\n",
            "<class 'set'>\n",
            "5\n",
            "{1, 2, 3, 4, 5, 10}\n",
            "{1, 2, 3, 4, 5, 10, 'BKC'}\n"
          ]
        }
      ],
      "source": [
        "ex = {1,1,2,3,3,4,5}\n",
        "print(ex)\n",
        "print(type(ex))\n",
        "print(len(ex))\n",
        "ex.add(10)\n",
        "print(ex)\n",
        "ex.add(\"BKC\")\n",
        "print(ex)"
      ]
    },
    {
      "cell_type": "code",
      "execution_count": null,
      "metadata": {
        "colab": {
          "base_uri": "https://localhost:8080/"
        },
        "id": "GLXl-qtbtizr",
        "outputId": "92383ab7-a461-4bfd-ba40-9d17cb39f3f2"
      },
      "outputs": [
        {
          "name": "stdout",
          "output_type": "stream",
          "text": [
            "{1, 2, 3, 4, 5, 6}\n",
            "{1, 2, 3, 4, 5, 6}\n",
            "{3, 4}\n",
            "{3, 4}\n",
            "{1, 2}\n",
            "{1, 2}\n",
            "{5, 6}\n",
            "{5, 6}\n"
          ]
        }
      ],
      "source": [
        "\n",
        "first = {1,2,3,4,4,2}\n",
        "second = {3,5,4,6}\n",
        "print(first | second)\n",
        "print(first.union(second))\n",
        "\n",
        "print(first & second)\n",
        "print(first.intersection(second))\n",
        "\n",
        "print(first - second)\n",
        "print(first.difference(second))\n",
        "\n",
        "print(second - first)\n",
        "print(second.difference(first))"
      ]
    },
    {
      "cell_type": "code",
      "execution_count": null,
      "metadata": {
        "colab": {
          "base_uri": "https://localhost:8080/"
        },
        "id": "UphdSbANxlYI",
        "outputId": "4c590f18-f6bc-4108-a1e6-f662074d3b8a"
      },
      "outputs": [
        {
          "name": "stdout",
          "output_type": "stream",
          "text": [
            "{'Roll_number': 201, 'Name': 'Owais', 'Address': 'Chikodi', 'CGPA': 7.53, 'Course': 'MCA', 'Year': 2025, 'Age': 19}\n",
            "7\n",
            "{'Roll_number': 201, 'Name': 'Owais', 'Address': 'Chikodi', 'CGPA': 7.53, 'Course': 'MCA', 'Year': 2025, 'Age': 19, 'Gender': 'Male'}\n",
            "{'Roll_number': 201, 'Name': 'Owais', 'Address': 'Chikodi', 'CGPA': 7.53, 'Course': 'MCA', 'Year': 2025, 'Age': 19, 'Gender': 'Male', 'Mobile number': 7021140812}\n",
            "{'Roll_number': 201, 'Name': 'Owais', 'Address': 'Chikodi', 'CGPA': 7.53, 'Course': 'MCA', 'Year': 2025, 'Age': 19, 'Gender': 'Male', 'Mobile number': 7021140812, 'College': 'BKC'}\n",
            "{'Roll_number': 201, 'Name': 'Owais', 'Address': 'Chikodi', 'CGPA': 7.53, 'Course': 'MCA', 'Year': 2025, 'Age': 19, 'Gender': 'Male', 'Mobile number': 7021140812, 'College': 'RC University'}\n",
            "{'Roll_number': 201, 'Name': 'Owais', 'Address': 'Chikodi', 'CGPA': 7.53, 'Course': 'MCA', 'Year': 2025, 'Age': 19, 'Mobile number': 7021140812, 'College': 'RC University'}\n",
            "{'Roll_number': 201, 'Name': 'Owais', 'Address': 'Chikodi', 'CGPA': 7.53, 'Course': 'MCA', 'Year': 2025, 'Age': 19, 'Mobile number': 7021140812, 'College': 'RC University', 'Gender': 'Male'}\n",
            "RC University\n",
            "19\n",
            "{'Roll_number': 201, 'Name': 'Owais', 'CGPA': 7.53, 'Course': 'MCA', 'Year': 2025, 'Age': 19, 'Mobile number': 7021140812, 'College': 'RC University', 'Gender': 'Male'}\n",
            "{'Roll_number': 201, 'Name': 'Owais', 'CGPA': 7.53, 'Course': 'MCA', 'Year': 2025, 'Age': 19, 'Mobile number': 7021140812, 'College': 'RC University'}\n",
            "dict_keys(['Roll_number', 'Name', 'CGPA', 'Course', 'Year', 'Age', 'Mobile number', 'College'])\n",
            "dict_values([201, 'Owais', 7.53, 'MCA', 2025, 19, 7021140812, 'RC University'])\n",
            "dict_items([('Roll_number', 201), ('Name', 'Owais'), ('CGPA', 7.53), ('Course', 'MCA'), ('Year', 2025), ('Age', 19), ('Mobile number', 7021140812), ('College', 'RC University')])\n",
            "None\n"
          ]
        }
      ],
      "source": [
        "Dict = {\"Roll_number\" : 201,\n",
        "        \"Name\"        : \"Owais\",\n",
        "        \"Address\"     : \"Chikodi\",\n",
        "        \"CGPA\"        : 7.53,\n",
        "        \"Course\"      : \"MCA\",\n",
        "        \"Year\"        : 2025,\n",
        "        \"Age\"         : 19\n",
        "}\n",
        "print(Dict)\n",
        "print(len(Dict))\n",
        "Dict[\"Gender\"] = \"Male\"\n",
        "print(Dict)\n",
        "Dict[\"Mobile number\"] = 7021140812\n",
        "print(Dict)\n",
        "Dict[\"College\"] = \"BKC\"\n",
        "print(Dict)\n",
        "Dict[\"College\"] = \"RC University\"\n",
        "print(Dict)\n",
        "del Dict[\"Gender\"]\n",
        "print(Dict)\n",
        "Dict[\"Gender\"] = \"Male\"\n",
        "print(Dict)\n",
        "print(Dict[\"College\"])\n",
        "print(Dict[\"Age\"])\n",
        "del Dict[\"Address\"]\n",
        "print(Dict)\n",
        "Dict.popitem()\n",
        "print(Dict)\n",
        "print(Dict.keys())\n",
        "print(Dict.values())\n",
        "print(Dict.items())\n",
        "print(Dict.clear())"
      ]
    },
    {
      "cell_type": "code",
      "execution_count": null,
      "metadata": {
        "colab": {
          "base_uri": "https://localhost:8080/"
        },
        "id": "QIxQRoVs7gQd",
        "outputId": "31e77124-38ee-4407-bd74-1752ee631f5f"
      },
      "outputs": [
        {
          "name": "stdout",
          "output_type": "stream",
          "text": [
            "{'Name': 'Owais', 'name': 'Owais', 'F_name': 'Owais', 'L_name': 'Owais'}\n",
            "4\n"
          ]
        }
      ],
      "source": [
        "  Name = {\"Name\" : \"Owais\",\n",
        "          \"name\" : \"Owais\",\n",
        "          \"F_name\" : \"Owais\",\n",
        "          \"L_name\" : \"Owais\"\n",
        "}\n",
        "print(Name)\n"
      ]
    },
    {
      "cell_type": "code",
      "execution_count": null,
      "metadata": {
        "colab": {
          "base_uri": "https://localhost:8080/"
        },
        "id": "clUjQtXMep3R",
        "outputId": "c3463c26-2d83-49c9-d2ea-bfa1b9bf6a3f"
      },
      "outputs": [
        {
          "name": "stdout",
          "output_type": "stream",
          "text": [
            "<class 'int'>\n",
            "<class 'int'>\n",
            "<class 'int'>\n",
            "<class 'float'>\n",
            "<class 'float'>\n"
          ]
        }
      ],
      "source": [
        "a = 10\n",
        "b = 3\n",
        "c = a + b\n",
        "print(type(a))\n",
        "print(type(b))\n",
        "print(type(c))\n",
        "\n",
        "print(type(a / b))\n",
        "\n",
        "x = 2.5\n",
        "y = 3.5\n",
        "print(type(x + y))\n"
      ]
    },
    {
      "cell_type": "code",
      "execution_count": null,
      "metadata": {
        "colab": {
          "base_uri": "https://localhost:8080/"
        },
        "id": "rOREO_3QgcV4",
        "outputId": "53de1ba1-80a6-4bd2-b832-5efe1dfb0dbe"
      },
      "outputs": [
        {
          "name": "stdout",
          "output_type": "stream",
          "text": [
            "<class 'float'>\n"
          ]
        }
      ],
      "source": [
        "# int -> float\n",
        "a = 49\n",
        "b = 7\n",
        "print(type(a / b))\n",
        "\n"
      ]
    },
    {
      "cell_type": "code",
      "execution_count": null,
      "metadata": {
        "colab": {
          "base_uri": "https://localhost:8080/"
        },
        "id": "0mvxxY7ph_k3",
        "outputId": "00a40788-a7dd-46b3-e901-50d18c2159a0"
      },
      "outputs": [
        {
          "name": "stdout",
          "output_type": "stream",
          "text": [
            "<class 'bool'>\n",
            "<class 'int'>\n"
          ]
        }
      ],
      "source": [
        "i = True\n",
        "print(type(i))\n",
        "j = 5\n",
        "print(type(i + j))"
      ]
    },
    {
      "cell_type": "code",
      "execution_count": null,
      "metadata": {
        "colab": {
          "base_uri": "https://localhost:8080/"
        },
        "id": "SYrcsq_aioYs",
        "outputId": "f04ab7b8-8c1c-4e22-87ec-602584de7e59"
      },
      "outputs": [
        {
          "name": "stdout",
          "output_type": "stream",
          "text": [
            "<class 'float'>\n",
            "<class 'int'>\n",
            "<class 'float'>\n"
          ]
        }
      ],
      "source": [
        "M = 2.9\n",
        "N = False\n",
        "O = M - N\n",
        "print(type(O))\n",
        "\n",
        "P = True\n",
        "Q = False\n",
        "R = P + Q\n",
        "print(type(R))\n",
        "\n",
        "S = 2.6\n",
        "T = False\n",
        "print(type(S * T))\n"
      ]
    },
    {
      "cell_type": "code",
      "execution_count": null,
      "metadata": {
        "colab": {
          "base_uri": "https://localhost:8080/"
        },
        "id": "xaLzKznLlVhc",
        "outputId": "71ea06c1-76a0-417b-905b-2b893ffcfb62"
      },
      "outputs": [
        {
          "name": "stdout",
          "output_type": "stream",
          "text": [
            "<class 'float'>\n",
            "<class 'int'>\n"
          ]
        }
      ],
      "source": [
        "num = 3/2\n",
        "print(type(num))\n",
        "add = int (num)\n",
        "print(type(add))"
      ]
    },
    {
      "cell_type": "code",
      "execution_count": null,
      "metadata": {
        "colab": {
          "base_uri": "https://localhost:8080/"
        },
        "id": "wFmgJ6V_lsGF",
        "outputId": "af95f5f7-46be-4ae7-f822-82d55a83cbf0"
      },
      "outputs": [
        {
          "output_type": "stream",
          "name": "stdout",
          "text": [
            "<class 'float'>\n",
            "<class 'int'>\n",
            "<class 'float'>\n",
            "<class 'str'>\n"
          ]
        }
      ],
      "source": [
        "num = 3.12\n",
        "print(type(num))\n",
        "\n",
        "# Explicit\n",
        "add = int(num)\n",
        "print(type(add))\n",
        "\n",
        "mul = float(add)\n",
        "print(type(mul))\n",
        "\n",
        "Num = \"101\"\n",
        "print(type(Num))"
      ]
    },
    {
      "cell_type": "code",
      "execution_count": null,
      "metadata": {
        "colab": {
          "background_save": true
        },
        "id": "s0RbXJg4nBOx",
        "outputId": "a189bd8d-564d-47b0-94e0-3cc53604a90a"
      },
      "outputs": [
        {
          "name": "stdout",
          "output_type": "stream",
          "text": [
            "<class 'str'>\n",
            "<class 'int'>\n"
          ]
        }
      ],
      "source": [
        "Num = \"101\"\n",
        "print(type(Num))\n",
        "\n",
        "#explicit\n",
        "add = int(Num)\n",
        "print(type(add))"
      ]
    },
    {
      "cell_type": "code",
      "source": [
        "Men = True\n",
        "print(type(Men))\n",
        "\n",
        "#Explicit\n",
        "Fem = int(Men)\n",
        "print(type(add))"
      ],
      "metadata": {
        "colab": {
          "base_uri": "https://localhost:8080/"
        },
        "id": "lQxg4FjKnm_N",
        "outputId": "3e2741b1-f78a-4bec-f533-ceb3e3dc1375"
      },
      "execution_count": null,
      "outputs": [
        {
          "output_type": "stream",
          "name": "stdout",
          "text": [
            "<class 'bool'>\n",
            "<class 'int'>\n"
          ]
        }
      ]
    },
    {
      "cell_type": "code",
      "source": [
        "add = int(num)\n",
        "print(type(add))\n",
        "\n",
        "num = \"101\"\n",
        "print(type(num))"
      ],
      "metadata": {
        "colab": {
          "base_uri": "https://localhost:8080/"
        },
        "id": "jbCcrxWBoiK9",
        "outputId": "5ddcc176-6b8e-48d9-b091-5c33505b9b36"
      },
      "execution_count": null,
      "outputs": [
        {
          "output_type": "stream",
          "name": "stdout",
          "text": [
            "<class 'int'>\n",
            "<class 'str'>\n"
          ]
        }
      ]
    },
    {
      "cell_type": "code",
      "source": [
        "Fem = int(Men)\n",
        "print(type(Fem))\n",
        "\n",
        "Men = True\n",
        "print(type(Men))"
      ],
      "metadata": {
        "colab": {
          "base_uri": "https://localhost:8080/"
        },
        "id": "adP9-s9YpKR9",
        "outputId": "d9bfdbb9-a292-4114-e9c4-b622f302db2e"
      },
      "execution_count": null,
      "outputs": [
        {
          "output_type": "stream",
          "name": "stdout",
          "text": [
            "<class 'int'>\n",
            "<class 'bool'>\n"
          ]
        }
      ]
    },
    {
      "cell_type": "code",
      "source": [
        "Demo = 9.99\n",
        "print(type(Demo))\n",
        "\n",
        "print(type(bool(Demo)))"
      ],
      "metadata": {
        "colab": {
          "base_uri": "https://localhost:8080/"
        },
        "id": "CrwLxqftqRsN",
        "outputId": "ed8e4199-5113-459e-ac9e-0d9f77c485a6"
      },
      "execution_count": null,
      "outputs": [
        {
          "output_type": "stream",
          "name": "stdout",
          "text": [
            "<class 'float'>\n",
            "<class 'bool'>\n"
          ]
        }
      ]
    },
    {
      "cell_type": "code",
      "source": [
        "demo = True\n",
        "print(type(demo))\n",
        "\n",
        "print(type(float(demo)))"
      ],
      "metadata": {
        "colab": {
          "base_uri": "https://localhost:8080/"
        },
        "id": "PWQ4Nz57qlQN",
        "outputId": "f33dd8c8-64dc-43ac-a61c-8194bf4bd311"
      },
      "execution_count": null,
      "outputs": [
        {
          "output_type": "stream",
          "name": "stdout",
          "text": [
            "<class 'bool'>\n",
            "<class 'float'>\n"
          ]
        }
      ]
    },
    {
      "cell_type": "code",
      "source": [
        "# 1) str -> list\n",
        "\n",
        "Num1 = \"Owais\"\n",
        "print(type(Num1))\n",
        "\n",
        "Ex1 = list(Num1)\n",
        "print(type(Ex1))\n",
        "\n",
        "# 2) tuple -> list\n",
        "Num2 = (1,2,3,4,5)\n",
        "print(type(Num2))\n",
        "\n",
        "Ex2 = list(Num2)\n",
        "print(type(Ex2))\n",
        "\n",
        "# 3) set -> list\n",
        "Num3 = {1,23,4,5}\n",
        "print(type(Num3))\n",
        "\n",
        "Ex3 = list(Num3)\n",
        "print(type(Ex3))\n",
        "\n",
        "# 4) Dict -> list\n",
        "Num4 = {}\n",
        "print(type(Num4))\n",
        "\n",
        "Ex4 = list(Num4)\n",
        "print(type(Ex4))\n",
        "\n"
      ],
      "metadata": {
        "colab": {
          "base_uri": "https://localhost:8080/"
        },
        "id": "vY8IeBwSxfuQ",
        "outputId": "77aa85ab-0625-4cc1-f5b2-9418cf5ea7df"
      },
      "execution_count": 125,
      "outputs": [
        {
          "output_type": "stream",
          "name": "stdout",
          "text": [
            "<class 'str'>\n",
            "<class 'list'>\n",
            "<class 'tuple'>\n",
            "<class 'list'>\n",
            "<class 'set'>\n",
            "<class 'list'>\n",
            "<class 'dict'>\n",
            "<class 'list'>\n"
          ]
        }
      ]
    },
    {
      "cell_type": "markdown",
      "source": [
        "print(\"a = 20, b = 10\")"
      ],
      "metadata": {
        "id": "Ld4gnBFAzjVp"
      }
    },
    {
      "cell_type": "code",
      "source": [
        "# 1) list -> Dict\n",
        "Num1 = [(\"a\",1),(\"b\",2),(\"c\",3)]\n",
        "print(type(Num1))\n",
        "\n",
        "Ex1 = dict(Num1)\n",
        "print(type(Ex1))"
      ],
      "metadata": {
        "colab": {
          "base_uri": "https://localhost:8080/"
        },
        "id": "p5rjl4xQ1ZC0",
        "outputId": "18d325fb-fff0-4eef-a440-878622ed4998"
      },
      "execution_count": 129,
      "outputs": [
        {
          "output_type": "stream",
          "name": "stdout",
          "text": [
            "<class 'list'>\n",
            "<class 'dict'>\n"
          ]
        }
      ]
    },
    {
      "cell_type": "code",
      "source": [
        "# 2) tuple -> Dict\n",
        "Num3 = ((\"Name\",\"Owais\"),(\"Age\",25))\n",
        "print(type(Num3))\n",
        "\n",
        "Ex3 = dict(Num3)\n",
        "print(type(Ex3))"
      ],
      "metadata": {
        "colab": {
          "base_uri": "https://localhost:8080/"
        },
        "id": "eLJ7iinv2TBv",
        "outputId": "b9c47e0c-1b96-46f1-a49a-29b4b18406d3"
      },
      "execution_count": 136,
      "outputs": [
        {
          "output_type": "stream",
          "name": "stdout",
          "text": [
            "<class 'tuple'>\n",
            "<class 'dict'>\n"
          ]
        }
      ]
    },
    {
      "cell_type": "code",
      "source": [
        "# 3) set -> Dict\n",
        "Num4 ={(\"Roo_number\",201),(\"Name\", \"Owais\")}\n",
        "print(type(Num4))\n",
        "\n",
        "Ex4 = dict(Num4)\n",
        "print(type(Ex4).)"
      ],
      "metadata": {
        "colab": {
          "base_uri": "https://localhost:8080/"
        },
        "id": "kIXm52s44gyu",
        "outputId": "79e994e7-2628-4010-b002-d0047c5bd8a8"
      },
      "execution_count": 137,
      "outputs": [
        {
          "output_type": "stream",
          "name": "stdout",
          "text": [
            "<class 'set'>\n",
            "<class 'dict'>\n"
          ]
        }
      ]
    },
    {
      "cell_type": "code",
      "source": [
        "# I/p a = 10, b = 20\n",
        "# O/P a = 20, b = 10\n",
        "\n",
        "A = 10\n",
        "B = 20\n",
        "print(\"Before Swapping\")\n",
        "print(\"A=\",A,\"B=\",B)\n",
        "\n",
        "print(\"After Swapping\")\n",
        "temp = A\n",
        "A = B\n",
        "B = temp\n",
        "print(\"A=\",A,\"B=\",B)\n"
      ],
      "metadata": {
        "colab": {
          "base_uri": "https://localhost:8080/"
        },
        "id": "bpuLL08L7-t9",
        "outputId": "438c860a-55d7-4610-b07e-454ba8baec34"
      },
      "execution_count": 138,
      "outputs": [
        {
          "output_type": "stream",
          "name": "stdout",
          "text": [
            "Before Swapping\n",
            "A= 10 B= 20\n",
            "After Swapping\n",
            "A= 20 B= 10\n"
          ]
        }
      ]
    }
  ],
  "metadata": {
    "colab": {
      "provenance": []
    },
    "kernelspec": {
      "display_name": "Python 3",
      "name": "python3"
    },
    "language_info": {
      "name": "python"
    }
  },
  "nbformat": 4,
  "nbformat_minor": 0
}