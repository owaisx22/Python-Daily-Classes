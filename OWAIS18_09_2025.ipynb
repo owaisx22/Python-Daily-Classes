{
  "nbformat": 4,
  "nbformat_minor": 0,
  "metadata": {
    "colab": {
      "provenance": [],
      "authorship_tag": "ABX9TyNN4gHNzL12+BgLFPNWR9c5",
      "include_colab_link": true
    },
    "kernelspec": {
      "name": "python3",
      "display_name": "Python 3"
    },
    "language_info": {
      "name": "python"
    }
  },
  "cells": [
    {
      "cell_type": "markdown",
      "metadata": {
        "id": "view-in-github",
        "colab_type": "text"
      },
      "source": [
        "<a href=\"https://colab.research.google.com/github/owaisx22/Python-Daily-Classes/blob/main/OWAIS18_09_2025.ipynb\" target=\"_parent\"><img src=\"https://colab.research.google.com/assets/colab-badge.svg\" alt=\"Open In Colab\"/></a>"
      ]
    },
    {
      "cell_type": "code",
      "execution_count": 1,
      "metadata": {
        "colab": {
          "base_uri": "https://localhost:8080/"
        },
        "id": "DqoKMKxI-OOy",
        "outputId": "4606103a-6f40-47fa-e7bd-0600a9399595"
      },
      "outputs": [
        {
          "output_type": "stream",
          "name": "stdout",
          "text": [
            "Total vowels is : 8\n"
          ]
        }
      ],
      "source": [
        "sentence = \"Python programming language\"\n",
        "count = 0\n",
        "for ch in sentence :\n",
        "    if ch in \"aeiou\" :\n",
        "        count += 1\n",
        "print(\"Total vowels is :\", count)\n"
      ]
    },
    {
      "cell_type": "code",
      "source": [
        "# Write a program on area of triangle using python language\n",
        "base = 4\n",
        "height = 5\n",
        "triangle = 0.5 * base * height\n",
        "print(\"Area of triangle is :\", triangle)\n"
      ],
      "metadata": {
        "colab": {
          "base_uri": "https://localhost:8080/"
        },
        "id": "fOWJYWCb_VRB",
        "outputId": "28c26a04-9b81-48c6-f016-5616ffddab1b"
      },
      "execution_count": 2,
      "outputs": [
        {
          "output_type": "stream",
          "name": "stdout",
          "text": [
            "Area of triangle is : 10.0\n"
          ]
        }
      ]
    },
    {
      "cell_type": "code",
      "source": [
        " # Write a program on area of circle using python language\n",
        " pi = 3.14\n",
        " radius = 4\n",
        " circle = pi * radius * radius\n",
        " print(\"Area of circle is :\", circle)"
      ],
      "metadata": {
        "colab": {
          "base_uri": "https://localhost:8080/"
        },
        "id": "aezUVEE2Akny",
        "outputId": "2548121a-7a87-423a-8d84-8768402f0975"
      },
      "execution_count": 3,
      "outputs": [
        {
          "output_type": "stream",
          "name": "stdout",
          "text": [
            "Area of circle is : 50.24\n"
          ]
        }
      ]
    },
    {
      "cell_type": "code",
      "source": [
        "num = [5, 25, 35, 28, 45, 10, 15]\n",
        "largest = num[0]\n",
        "for i in num :\n",
        "    if i > largest :\n",
        "        largest = i\n",
        "print(\"Largest number is :\", largest)\n"
      ],
      "metadata": {
        "colab": {
          "base_uri": "https://localhost:8080/"
        },
        "id": "0iFylaqrBtWZ",
        "outputId": "d5d4d314-ced6-44db-9174-3d65e4f73d98"
      },
      "execution_count": 9,
      "outputs": [
        {
          "output_type": "stream",
          "name": "stdout",
          "text": [
            "Largest number is : 45\n"
          ]
        }
      ]
    },
    {
      "cell_type": "code",
      "source": [
        "# Write a programe count of consonents in string value\n",
        "# \"Bachelor of computer science first semester section C\"\n",
        "sentence = \"Bachelor of computer science first semester section C\"\n",
        "count = 0\n",
        "for ch in sentence :\n",
        "    if ch not in \"aeiou\" :\n",
        "        count += 1\n",
        "print(\"Total consonents is :\", count)"
      ],
      "metadata": {
        "colab": {
          "base_uri": "https://localhost:8080/"
        },
        "id": "etvEvUosGWgS",
        "outputId": "95dc846c-3171-45d3-ece7-f7625678b01c"
      },
      "execution_count": 17,
      "outputs": [
        {
          "output_type": "stream",
          "name": "stdout",
          "text": [
            "Total consonents is : 36\n"
          ]
        }
      ]
    },
    {
      "cell_type": "code",
      "source": [
        "bikes = [\"RX 100\", \"GT 650\", \"NINJA\", \"Splender\", \"Bajaj\", \"Pulsar\", \"NS 200\", \"M 80\", \"Unicorn\"]\n",
        "for bike in bikes :\n",
        "    if bike == \"NS 200\" :\n",
        "        break\n",
        "    print(bike)"
      ],
      "metadata": {
        "colab": {
          "base_uri": "https://localhost:8080/"
        },
        "id": "dprnh6qIKkdx",
        "outputId": "1e5e1c40-2a9f-4b88-d602-99bcffc8e150"
      },
      "execution_count": 19,
      "outputs": [
        {
          "output_type": "stream",
          "name": "stdout",
          "text": [
            "RX 100\n",
            "GT 650\n",
            "NINJA\n",
            "Splender\n",
            "Bajaj\n",
            "Pulsar\n"
          ]
        }
      ]
    },
    {
      "cell_type": "code",
      "source": [
        "colours = {\"Purple\", \"Pink\", \"Black\", \"White\", \"Red\", \"Orange\", \"Levender\", \"Gray\", \"Yellow\", \"Maroon\"}\n",
        "\n",
        "for color in colours:\n",
        "    if color == \"Black\":\n",
        "        break\n",
        "    print(color)\n"
      ],
      "metadata": {
        "colab": {
          "base_uri": "https://localhost:8080/"
        },
        "id": "L1eujx8ueGj2",
        "outputId": "c7f6eb43-b0a1-41f4-e022-54f30294c711"
      },
      "execution_count": 23,
      "outputs": [
        {
          "output_type": "stream",
          "name": "stdout",
          "text": [
            "Yellow\n",
            "Levender\n",
            "Red\n",
            "White\n",
            "Maroon\n",
            "Gray\n",
            "Purple\n"
          ]
        }
      ]
    },
    {
      "cell_type": "code",
      "source": [
        "things = {\"Mobile\", \"Laptop\", \"Monitor\", \"Tab\", \"Book\", \"Pen\", \"Paper\"}\n",
        "for thing in things :\n",
        "    if thing == \"Mobile\":\n",
        "       continue\n",
        "    print(thing)"
      ],
      "metadata": {
        "colab": {
          "base_uri": "https://localhost:8080/"
        },
        "id": "LnBEiuY-lc7G",
        "outputId": "3e436806-141d-4b5c-c08f-970457a753a2"
      },
      "execution_count": 27,
      "outputs": [
        {
          "output_type": "stream",
          "name": "stdout",
          "text": [
            "Tab\n",
            "Book\n",
            "Pen\n",
            "Laptop\n",
            "Paper\n",
            "Monitor\n"
          ]
        }
      ]
    },
    {
      "cell_type": "code",
      "source": [
        "for i in range(10):\n",
        "  for j in range(10):\n",
        "    print(\"*\",end=\" \")\n",
        "  print()"
      ],
      "metadata": {
        "colab": {
          "base_uri": "https://localhost:8080/"
        },
        "id": "ZmgMVeOqphdm",
        "outputId": "5995ec58-4755-4328-a8aa-3c8e9b1acbc7"
      },
      "execution_count": 32,
      "outputs": [
        {
          "output_type": "stream",
          "name": "stdout",
          "text": [
            "* * * * * * * * * * \n",
            "* * * * * * * * * * \n",
            "* * * * * * * * * * \n",
            "* * * * * * * * * * \n",
            "* * * * * * * * * * \n",
            "* * * * * * * * * * \n",
            "* * * * * * * * * * \n",
            "* * * * * * * * * * \n",
            "* * * * * * * * * * \n",
            "* * * * * * * * * * \n"
          ]
        }
      ]
    },
    {
      "cell_type": "code",
      "source": [
        "for i in range(10):\n",
        "  for j in range(10):\n",
        "    print(\"1\",end=\" \")\n",
        "  print()"
      ],
      "metadata": {
        "colab": {
          "base_uri": "https://localhost:8080/"
        },
        "id": "6lBnyqxjqgdE",
        "outputId": "391c1651-d85f-43f3-9304-2e1ff015235d"
      },
      "execution_count": 33,
      "outputs": [
        {
          "output_type": "stream",
          "name": "stdout",
          "text": [
            "1 1 1 1 1 1 1 1 1 1 \n",
            "1 1 1 1 1 1 1 1 1 1 \n",
            "1 1 1 1 1 1 1 1 1 1 \n",
            "1 1 1 1 1 1 1 1 1 1 \n",
            "1 1 1 1 1 1 1 1 1 1 \n",
            "1 1 1 1 1 1 1 1 1 1 \n",
            "1 1 1 1 1 1 1 1 1 1 \n",
            "1 1 1 1 1 1 1 1 1 1 \n",
            "1 1 1 1 1 1 1 1 1 1 \n",
            "1 1 1 1 1 1 1 1 1 1 \n"
          ]
        }
      ]
    },
    {
      "cell_type": "code",
      "source": [
        "for i in range(10):\n",
        "  for j in range(10):\n",
        "    print(i,end=\" \")\n",
        "  print()"
      ],
      "metadata": {
        "colab": {
          "base_uri": "https://localhost:8080/"
        },
        "id": "Lk5kzS4Eqyzc",
        "outputId": "2fd730ab-9e82-42f1-cbca-b988e84433f2"
      },
      "execution_count": 40,
      "outputs": [
        {
          "output_type": "stream",
          "name": "stdout",
          "text": [
            "0 0 0 0 0 0 0 0 0 0 \n",
            "1 1 1 1 1 1 1 1 1 1 \n",
            "2 2 2 2 2 2 2 2 2 2 \n",
            "3 3 3 3 3 3 3 3 3 3 \n",
            "4 4 4 4 4 4 4 4 4 4 \n",
            "5 5 5 5 5 5 5 5 5 5 \n",
            "6 6 6 6 6 6 6 6 6 6 \n",
            "7 7 7 7 7 7 7 7 7 7 \n",
            "8 8 8 8 8 8 8 8 8 8 \n",
            "9 9 9 9 9 9 9 9 9 9 \n"
          ]
        }
      ]
    },
    {
      "cell_type": "code",
      "source": [
        "for i in range(10):\n",
        "  for j in range(10):\n",
        "    print(j,end=\" \")\n",
        "  print()"
      ],
      "metadata": {
        "colab": {
          "base_uri": "https://localhost:8080/"
        },
        "id": "AKNq4ZC1rUd2",
        "outputId": "a601870e-ebf5-4bd4-8a44-f9041ee64728"
      },
      "execution_count": 41,
      "outputs": [
        {
          "output_type": "stream",
          "name": "stdout",
          "text": [
            "0 1 2 3 4 5 6 7 8 9 \n",
            "0 1 2 3 4 5 6 7 8 9 \n",
            "0 1 2 3 4 5 6 7 8 9 \n",
            "0 1 2 3 4 5 6 7 8 9 \n",
            "0 1 2 3 4 5 6 7 8 9 \n",
            "0 1 2 3 4 5 6 7 8 9 \n",
            "0 1 2 3 4 5 6 7 8 9 \n",
            "0 1 2 3 4 5 6 7 8 9 \n",
            "0 1 2 3 4 5 6 7 8 9 \n",
            "0 1 2 3 4 5 6 7 8 9 \n"
          ]
        }
      ]
    },
    {
      "cell_type": "code",
      "source": [
        "for i in range(1,10):\n",
        "  for j in range(i):\n",
        "    print(j,end=\" \")\n",
        "  print()"
      ],
      "metadata": {
        "colab": {
          "base_uri": "https://localhost:8080/"
        },
        "id": "b1F-pELPriQU",
        "outputId": "a3791b2d-4597-4360-92f6-3bff26786844"
      },
      "execution_count": 42,
      "outputs": [
        {
          "output_type": "stream",
          "name": "stdout",
          "text": [
            "0 \n",
            "0 1 \n",
            "0 1 2 \n",
            "0 1 2 3 \n",
            "0 1 2 3 4 \n",
            "0 1 2 3 4 5 \n",
            "0 1 2 3 4 5 6 \n",
            "0 1 2 3 4 5 6 7 \n",
            "0 1 2 3 4 5 6 7 8 \n"
          ]
        }
      ]
    },
    {
      "cell_type": "code",
      "source": [
        "for i in range(1,10):\n",
        "  for j in range(j):\n",
        "    print(i,end=\" \")\n",
        "  print()"
      ],
      "metadata": {
        "colab": {
          "base_uri": "https://localhost:8080/"
        },
        "id": "ojMoVPfnr6ed",
        "outputId": "9687d9d4-c2ab-4e4a-cc81-4b166b06e225"
      },
      "execution_count": 47,
      "outputs": [
        {
          "output_type": "stream",
          "name": "stdout",
          "text": [
            "1 1 1 1 1 1 1 1 1 \n",
            "2 2 2 2 2 2 2 2 \n",
            "3 3 3 3 3 3 3 \n",
            "4 4 4 4 4 4 \n",
            "5 5 5 5 5 \n",
            "6 6 6 6 \n",
            "7 7 7 \n",
            "8 8 \n",
            "9 \n"
          ]
        }
      ]
    },
    {
      "cell_type": "code",
      "source": [
        "for i in range(10):\n",
        "    for j in range(0,i+1):\n",
        "        print(\" \",end=\" \")\n",
        "    for j in range(10):\n",
        "        print(\"*\",end=\" \")\n",
        "    print()\n",
        ""
      ],
      "metadata": {
        "colab": {
          "base_uri": "https://localhost:8080/"
        },
        "id": "_XFT2BdL-Md4",
        "outputId": "912382ef-2d88-4b3f-aeb4-03df2054c5ca"
      },
      "execution_count": 54,
      "outputs": [
        {
          "output_type": "stream",
          "name": "stdout",
          "text": [
            "  * * * * * * * * * * \n",
            "    * * * * * * * * * * \n",
            "      * * * * * * * * * * \n",
            "        * * * * * * * * * * \n",
            "          * * * * * * * * * * \n",
            "            * * * * * * * * * * \n",
            "              * * * * * * * * * * \n",
            "                * * * * * * * * * * \n",
            "                  * * * * * * * * * * \n",
            "                    * * * * * * * * * * \n"
          ]
        }
      ]
    },
    {
      "cell_type": "code",
      "source": [
        "for i in range(5):\n",
        "    for j in range(i+1,5):\n",
        "        print(\" \",end=\" \")\n",
        "    for j in range(5):\n",
        "        print(\"*\",end=\" \")\n",
        "    print()\n",
        ""
      ],
      "metadata": {
        "colab": {
          "base_uri": "https://localhost:8080/"
        },
        "id": "UqyUaell_vho",
        "outputId": "b7476d7c-5a79-4708-a108-3ce6b4a5308d"
      },
      "execution_count": 64,
      "outputs": [
        {
          "output_type": "stream",
          "name": "stdout",
          "text": [
            "        * * * * * \n",
            "      * * * * * \n",
            "    * * * * * \n",
            "  * * * * * \n",
            "* * * * * \n"
          ]
        }
      ]
    },
    {
      "cell_type": "code",
      "source": [
        "row = 10\n",
        "col = 10\n",
        "for i in range(0,row):\n",
        "    for j in range(0,col):\n",
        "        if i == 0 or i == row-1 or j == 0 or j == col-1:\n",
        "            print(\"☺️\",end=\" \")\n",
        "        else:\n",
        "            print(\" \",end=\" \")\n",
        "    print()"
      ],
      "metadata": {
        "colab": {
          "base_uri": "https://localhost:8080/"
        },
        "id": "PiJf_5H7BuIP",
        "outputId": "5a368f78-4e9e-46a1-d83e-e60efcb7e9cf"
      },
      "execution_count": 69,
      "outputs": [
        {
          "output_type": "stream",
          "name": "stdout",
          "text": [
            "☺️ ☺️ ☺️ ☺️ ☺️ ☺️ ☺️ ☺️ ☺️ ☺️ \n",
            "☺️                 ☺️ \n",
            "☺️                 ☺️ \n",
            "☺️                 ☺️ \n",
            "☺️                 ☺️ \n",
            "☺️                 ☺️ \n",
            "☺️                 ☺️ \n",
            "☺️                 ☺️ \n",
            "☺️                 ☺️ \n",
            "☺️ ☺️ ☺️ ☺️ ☺️ ☺️ ☺️ ☺️ ☺️ ☺️ \n"
          ]
        }
      ]
    },
    {
      "cell_type": "code",
      "source": [
        "for i in range(10):\n",
        "    for j in range(i):\n",
        "      print(\"☺️\",end=\" \")\n",
        "    print()\n"
      ],
      "metadata": {
        "colab": {
          "base_uri": "https://localhost:8080/"
        },
        "id": "GfncO2YNEmJY",
        "outputId": "3bc7f975-e583-4302-cb6f-620c7ed0a372"
      },
      "execution_count": 71,
      "outputs": [
        {
          "output_type": "stream",
          "name": "stdout",
          "text": [
            "\n",
            "☺️ \n",
            "☺️ ☺️ \n",
            "☺️ ☺️ ☺️ \n",
            "☺️ ☺️ ☺️ ☺️ \n",
            "☺️ ☺️ ☺️ ☺️ ☺️ \n",
            "☺️ ☺️ ☺️ ☺️ ☺️ ☺️ \n",
            "☺️ ☺️ ☺️ ☺️ ☺️ ☺️ ☺️ \n",
            "☺️ ☺️ ☺️ ☺️ ☺️ ☺️ ☺️ ☺️ \n",
            "☺️ ☺️ ☺️ ☺️ ☺️ ☺️ ☺️ ☺️ ☺️ \n"
          ]
        }
      ]
    },
    {
      "cell_type": "code",
      "source": [
        "num = 7\n",
        "for i in range(0,num):\n",
        "   for j in range(0,num-i-1):\n",
        "       print(\" \",end=\" \")\n",
        "   for j in range(0,i*2+1):\n",
        "       print(\"*\",end=\" \")\n",
        "   print()"
      ],
      "metadata": {
        "colab": {
          "base_uri": "https://localhost:8080/"
        },
        "id": "QakLg0xdIGKO",
        "outputId": "17f70eb2-3682-40e1-c681-820ebdc6687a"
      },
      "execution_count": 78,
      "outputs": [
        {
          "output_type": "stream",
          "name": "stdout",
          "text": [
            "            * \n",
            "          * * * \n",
            "        * * * * * \n",
            "      * * * * * * * \n",
            "    * * * * * * * * * \n",
            "  * * * * * * * * * * * \n",
            "* * * * * * * * * * * * * \n"
          ]
        }
      ]
    },
    {
      "cell_type": "code",
      "source": [
        "num = 7\n",
        "for i in range(0,num):\n",
        "   for j in range(0,num-i-1):\n",
        "       print(\" \",end=\" \")\n",
        "   for j in range(0,i*2+1):\n",
        "       print(\"O\",end=\" \")\n",
        "   print()\n",
        "   num = 7\n",
        "for i in range(0,num):\n",
        "   for j in range(0,i):\n",
        "       print(\" \",end=\" \")\n",
        "   for j in range(0,(num-i)*2-1):\n",
        "       print(\"O\",end=\" \")\n",
        "   print()"
      ],
      "metadata": {
        "colab": {
          "base_uri": "https://localhost:8080/"
        },
        "id": "mY6aled4J-sm",
        "outputId": "5f06c8e6-45aa-4e40-d036-b4cca1ca2aa8"
      },
      "execution_count": 86,
      "outputs": [
        {
          "output_type": "stream",
          "name": "stdout",
          "text": [
            "            O \n",
            "          O O O \n",
            "        O O O O O \n",
            "      O O O O O O O \n",
            "    O O O O O O O O O \n",
            "  O O O O O O O O O O O \n",
            "O O O O O O O O O O O O O \n",
            "O O O O O O O O O O O O O \n",
            "  O O O O O O O O O O O \n",
            "    O O O O O O O O O \n",
            "      O O O O O O O \n",
            "        O O O O O \n",
            "          O O O \n",
            "            O \n"
          ]
        }
      ]
    },
    {
      "cell_type": "code",
      "source": [
        "def add(a,b):\n",
        "  print(f'Addition of two numbers is {a+b}')\n",
        "add(5,10)"
      ],
      "metadata": {
        "colab": {
          "base_uri": "https://localhost:8080/"
        },
        "id": "SKxuYC6GT-am",
        "outputId": "90828eb6-3bd9-4222-f8bf-39a831436247"
      },
      "execution_count": 87,
      "outputs": [
        {
          "output_type": "stream",
          "name": "stdout",
          "text": [
            "Addition of two numbers is 15\n"
          ]
        }
      ]
    },
    {
      "cell_type": "code",
      "source": [
        "def Example(roll_num,name,section,department,college):\n",
        "  print(f\"My name is {name},i'm studying {department},in {college},college.My roll_number is {roll_num} and section is {section}\")\n",
        "Example(101,\"Owais\",'A',\"BCA\",\"KLE\")\n"
      ],
      "metadata": {
        "colab": {
          "base_uri": "https://localhost:8080/"
        },
        "id": "iSKD0ryCUYwP",
        "outputId": "84184821-8593-42fc-c237-a1c6d9afd774"
      },
      "execution_count": 92,
      "outputs": [
        {
          "output_type": "stream",
          "name": "stdout",
          "text": [
            "My name is Owais,i'm studying BCA,in KLE,college.My roll_number is 101 and section is A\n"
          ]
        }
      ]
    },
    {
      "cell_type": "code",
      "source": [
        "def fun(name,game,time):\n",
        "   print(f\"I'm {name}, i'm playing {game} at {time} time\")\n",
        "fun(time = \"evening\",name = \"Owais\",game = \"cricket\")"
      ],
      "metadata": {
        "colab": {
          "base_uri": "https://localhost:8080/"
        },
        "id": "b9RQH1Haczcz",
        "outputId": "1bb9b686-e774-4df0-864b-60feb4cf5e2b"
      },
      "execution_count": 99,
      "outputs": [
        {
          "output_type": "stream",
          "name": "stdout",
          "text": [
            "I'm Owais, i'm playing cricket at evening time\n"
          ]
        }
      ]
    },
    {
      "cell_type": "code",
      "source": [
        "def Laptop(name = \"Lenovo\"):\n",
        "    print(f\"My laptop is : {name}\")\n",
        "Laptop(\"Dell\")\n",
        "Laptop(\"HP\")\n",
        "Laptop()\n",
        "Laptop(\"Asus\")"
      ],
      "metadata": {
        "colab": {
          "base_uri": "https://localhost:8080/"
        },
        "id": "Rv19gtc6eeGu",
        "outputId": "92bccfc5-f3a2-4218-adbb-4d94599139ae"
      },
      "execution_count": 103,
      "outputs": [
        {
          "output_type": "stream",
          "name": "stdout",
          "text": [
            "My laptop is : Dell\n",
            "My laptop is : HP\n",
            "My laptop is : Lenovo\n",
            "My laptop is : Asus\n"
          ]
        }
      ]
    }
  ]
}