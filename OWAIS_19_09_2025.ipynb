{
  "nbformat": 4,
  "nbformat_minor": 0,
  "metadata": {
    "colab": {
      "provenance": [],
      "authorship_tag": "ABX9TyMpGDCIsJleDvNNMNOkca7G",
      "include_colab_link": true
    },
    "kernelspec": {
      "name": "python3",
      "display_name": "Python 3"
    },
    "language_info": {
      "name": "python"
    }
  },
  "cells": [
    {
      "cell_type": "markdown",
      "metadata": {
        "id": "view-in-github",
        "colab_type": "text"
      },
      "source": [
        "<a href=\"https://colab.research.google.com/github/owaisx22/Python-Daily-Classes/blob/main/OWAIS_19_09_2025.ipynb\" target=\"_parent\"><img src=\"https://colab.research.google.com/assets/colab-badge.svg\" alt=\"Open In Colab\"/></a>"
      ]
    },
    {
      "cell_type": "code",
      "execution_count": 3,
      "metadata": {
        "colab": {
          "base_uri": "https://localhost:8080/",
          "height": 0
        },
        "id": "CPB-Gf0YIMRo",
        "outputId": "251b90b9-3f43-404c-8f4a-fd2bffce7be6"
      },
      "outputs": [
        {
          "output_type": "stream",
          "name": "stdout",
          "text": [
            "Total value is : 15\n",
            "Total value is : 18\n",
            "Total value is : 90\n"
          ]
        }
      ],
      "source": [
        "# 1) Example sum of numbers using *args\n",
        "def add(*args):\n",
        "    total = 0\n",
        "    for num in args :\n",
        "        total += num\n",
        "    print(\"Total value is :\",total)\n",
        "\n",
        "add(10,5)\n",
        "add(5,4,9)\n",
        "add(10,46,14,20)"
      ]
    },
    {
      "cell_type": "code",
      "source": [
        "def print_details(**kwargs):\n",
        " for key, value in kwargs.items():\n",
        "        print(f\"{key}={value}\")\n",
        "\n",
        "print_details(name='Basavaraj',age=25,city='Bangalore')"
      ],
      "metadata": {
        "colab": {
          "base_uri": "https://localhost:8080/",
          "height": 0
        },
        "id": "SSer-dqgMBJh",
        "outputId": "51918d1e-1141-4c15-d1d1-9e5399d68680"
      },
      "execution_count": 10,
      "outputs": [
        {
          "output_type": "stream",
          "name": "stdout",
          "text": [
            "name=Basavaraj\n",
            "age=25\n",
            "city=Bangalore\n"
          ]
        }
      ]
    },
    {
      "cell_type": "code",
      "source": [
        "def details(**kwargs):\n",
        "  for key, value in kwargs.items():\n",
        "         print(f\"{key}={value}\")\n",
        "\n",
        "details(Course=\"BCA\",Section='C',College=\"BK College\")\n",
        "details(Place = \"Belagavi\")\n",
        "details(roll_number=201, Total_Subject=7)\n",
        "details(Laptop = \"Lenovo\", O_S = \"Window\", Year = 2022, Version = \"Windows\")"
      ],
      "metadata": {
        "colab": {
          "base_uri": "https://localhost:8080/",
          "height": 0
        },
        "id": "88Zx2sMkM-55",
        "outputId": "ba2e4ef1-fc06-4b1a-b6dc-a7ab6721fbbc"
      },
      "execution_count": 15,
      "outputs": [
        {
          "output_type": "stream",
          "name": "stdout",
          "text": [
            "Course=BCA\n",
            "Section=C\n",
            "College=BK College\n",
            "Place=Belagavi\n",
            "roll_number=201\n",
            "Total_Subject=7\n",
            "Laptop=Lenovo\n",
            "O_S=Window\n",
            "Year=2022\n",
            "Version=Windows\n"
          ]
        }
      ]
    },
    {
      "cell_type": "code",
      "source": [
        "# Example of *args and **kwargs\n",
        "def Show_values(*args,**kwargs):\n",
        "    print(\"Positional Arguments represented in Tuple\",args)\n",
        "    print(\"Key - words Arguments represented in Dict \",kwargs)\n",
        "Show_values(1,2,3,4,name=\"Owais\")\n",
        "\n",
        "Show_values(5,8,1,10,Class = \"BCA C section\",Gender = \"Male\")"
      ],
      "metadata": {
        "colab": {
          "base_uri": "https://localhost:8080/",
          "height": 0
        },
        "id": "9vtm6KI-QMM4",
        "outputId": "188b5645-d5d9-4b86-e0e9-2e3232e54310"
      },
      "execution_count": 17,
      "outputs": [
        {
          "output_type": "stream",
          "name": "stdout",
          "text": [
            "Positional Arguments represented in Tuple (1, 2, 3, 4)\n",
            "Key - words Arguments represented in Dict  {'name': 'Owais'}\n",
            "Positional Arguments represented in Tuple (5, 8, 1, 10)\n",
            "Key - words Arguments represented in Dict  {'Class': 'BCA C section', 'Gender': 'Male'}\n"
          ]
        }
      ]
    },
    {
      "cell_type": "code",
      "source": [
        "def fact(num):\n",
        "    if num == 0 or num == 1:\n",
        "        return num\n",
        "    else:\n",
        "        return num * fact(num-1)\n",
        "print(\"Factorial number is :\",fact(5))"
      ],
      "metadata": {
        "colab": {
          "base_uri": "https://localhost:8080/",
          "height": 0
        },
        "id": "Rq7k0XcjTARh",
        "outputId": "8277c1be-db20-41e3-8f26-77bc2062cca7"
      },
      "execution_count": 19,
      "outputs": [
        {
          "output_type": "stream",
          "name": "stdout",
          "text": [
            "Factorial number is : 120\n"
          ]
        }
      ]
    },
    {
      "cell_type": "code",
      "source": [
        "def sum(num):\n",
        "    if num == 0 :\n",
        "        return num\n",
        "    else:\n",
        "        return num + sum(num-1)\n",
        "print(\"Sum of N natural number is :\",sum(10))"
      ],
      "metadata": {
        "colab": {
          "base_uri": "https://localhost:8080/",
          "height": 0
        },
        "id": "QHyo0Fs5Y4HI",
        "outputId": "b814a7cf-e2a3-4d58-8589-bffe5d1f0a5d"
      },
      "execution_count": 23,
      "outputs": [
        {
          "output_type": "stream",
          "name": "stdout",
          "text": [
            "Sum of N natural number is : 55\n"
          ]
        }
      ]
    },
    {
      "cell_type": "code",
      "source": [
        "# fibonacci series / number using function recusion\n",
        "def fibo(num):\n",
        "  if num <= 1 :\n",
        "      return num\n",
        "  else :\n",
        "      return fibo(num-1) + fibo(num-2)\n",
        "for i in range(11):\n",
        "   print(fibo(i),end=\" \")\n",
        ""
      ],
      "metadata": {
        "colab": {
          "base_uri": "https://localhost:8080/"
        },
        "id": "rIblM3tiuEGV",
        "outputId": "0314ab01-f243-442f-8843-bd7567e4f980"
      },
      "execution_count": 28,
      "outputs": [
        {
          "output_type": "stream",
          "name": "stdout",
          "text": [
            "0 1 1 2 3 5 8 13 21 34 55 "
          ]
        }
      ]
    },
    {
      "cell_type": "code",
      "source": [
        "class Class Name:\n",
        "  def_init_(self,attributes):\n",
        "    self.attributes = attributes"
      ],
      "metadata": {
        "colab": {
          "base_uri": "https://localhost:8080/",
          "height": 106
        },
        "id": "4ohCvthpbiNX",
        "outputId": "ee3d0711-823e-4d97-8a85-b82c099b5304"
      },
      "execution_count": 24,
      "outputs": [
        {
          "output_type": "error",
          "ename": "SyntaxError",
          "evalue": "invalid syntax (ipython-input-3919779738.py, line 1)",
          "traceback": [
            "\u001b[0;36m  File \u001b[0;32m\"/tmp/ipython-input-3919779738.py\"\u001b[0;36m, line \u001b[0;32m1\u001b[0m\n\u001b[0;31m    class Class Name:\u001b[0m\n\u001b[0m                ^\u001b[0m\n\u001b[0;31mSyntaxError\u001b[0m\u001b[0;31m:\u001b[0m invalid syntax\n"
          ]
        }
      ]
    },
    {
      "cell_type": "code",
      "source": [
        "class Fruit:\n",
        "  colour=\"Orange\"\n",
        "  prize=250\n",
        "  taste=\"Sweet\"\n",
        "  shape=\"Circle\"\n",
        "  def juice(self):\n",
        "      print(\"good\")\n",
        "Orange = Fruit()\n",
        "print(\"orange colour is\",Orange.colour)"
      ],
      "metadata": {
        "colab": {
          "base_uri": "https://localhost:8080/"
        },
        "id": "BA7mqhVKrPaf",
        "outputId": "aa1d0a39-eb4a-4866-e248-b6f5f26640a9"
      },
      "execution_count": 26,
      "outputs": [
        {
          "output_type": "stream",
          "name": "stdout",
          "text": [
            "orange colour is Orange\n"
          ]
        }
      ]
    },
    {
      "cell_type": "code",
      "source": [
        "class Flower:\n",
        "  Smell = \"Nice\"\n",
        "  Petal = 5\n",
        "  Size = \"Medium\"\n",
        "  Gender = \"Male\"\n",
        "  Validity = 1.5\n",
        "  def Decoration(self):\n",
        "      print(\"Hello Good Morning\")\n",
        "  def Gift(self):\n",
        "      print(\"Good Afternoon\")\n",
        "  def Marriage(self):\n",
        "      print(\"Marriage\")\n",
        "  def Death(self):\n",
        "      print(\"This flower using for death time\")\n",
        "\n",
        "Obj = Flower()\n",
        "Obj.Marriage()\n",
        "print(Obj.Gender)\n",
        "Obj.Decoration()\n",
        "Obj.Gift()\n"
      ],
      "metadata": {
        "colab": {
          "base_uri": "https://localhost:8080/"
        },
        "id": "tdo0elwa0ef1",
        "outputId": "8d005ec8-67b8-46d2-a2a9-cc8f1a441e32"
      },
      "execution_count": 45,
      "outputs": [
        {
          "output_type": "stream",
          "name": "stdout",
          "text": [
            "Marriage\n",
            "Male\n",
            "Hello Good Morning\n",
            "Good Afternoon\n"
          ]
        }
      ]
    },
    {
      "cell_type": "code",
      "source": [
        "class Fan :\n",
        "   colour = \"Black\"\n",
        "   Wings = 3\n",
        "   C_name = \"Bajaj\"\n",
        "   Price = 1500\n",
        "   Warrenty = \"2 years\"\n",
        "   def start(self):\n",
        "       print(\"When click on button it'll start\")\n",
        "   def speed(self):\n",
        "       print(\"Based on condition it'll move fast\")\n",
        "   def stop(self):\n",
        "       print(\"When click on off button it'll start\")\n",
        "\n",
        "Obj = Fan()\n",
        "print(Obj.C_name+ \" \"+ Obj.Warrenty)\n",
        "Obj.stop()\n",
        "Obj.start()"
      ],
      "metadata": {
        "colab": {
          "base_uri": "https://localhost:8080/"
        },
        "id": "A6jEg-Fq0pnd",
        "outputId": "73d41520-3c5b-48e6-a41c-acddbbc424cd"
      },
      "execution_count": 47,
      "outputs": [
        {
          "output_type": "stream",
          "name": "stdout",
          "text": [
            "Bajaj 2 years\n",
            "When click on off button it'll start\n",
            "When click on button it'll start\n"
          ]
        }
      ]
    },
    {
      "cell_type": "code",
      "source": [
        "# Banking Example\n",
        "class Bank :\n",
        "    def __init__(self,balance):\n",
        "      self.balance = balance\n",
        "\n",
        "    def dDeposit(self,amount):\n",
        "        self.balance += amount\n",
        "\n",
        "    def Withdraw(self,amount):\n",
        "        if amount <= self.balance:\n",
        "            self.balance -= amount\n",
        "            print(\"Transaction Successfully\")\n",
        "        else:\n",
        "            print(\"Insufficient balance\")\n",
        "\n",
        "    def re_balance(self):\n",
        "        return self.balance\n",
        "\n",
        "Obj = Bank(1000)\n",
        "print(Obj.balance)\n",
        "Obj.dDeposit(500)\n",
        "print(Obj.balance)\n",
        "Obj.Withdraw(700)\n",
        "print(Obj.re_balance())\n",
        "Obj.dDeposit(1000)\n",
        "print(\"Current total balance is\",Obj.balance)\n",
        "Obj.Withdraw(2000)\n",
        "Obj.Withdraw(300)\n",
        "print(Obj.re_balance())\n"
      ],
      "metadata": {
        "colab": {
          "base_uri": "https://localhost:8080/"
        },
        "id": "lXysvWLO0yPU",
        "outputId": "3cfde287-e628-47d1-92a9-8f2ab37b89d6"
      },
      "execution_count": 69,
      "outputs": [
        {
          "output_type": "stream",
          "name": "stdout",
          "text": [
            "1000\n",
            "1500\n",
            "Transaction Successfully\n",
            "800\n",
            "Current total balance is 1800\n",
            "Insufficient balance\n",
            "Transaction Successfully\n",
            "1500\n"
          ]
        }
      ]
    },
    {
      "cell_type": "code",
      "source": [
        "# Encapsulation Example\n",
        "class Student :\n",
        "    def __init__(self,name,marks,place):\n",
        "      self.__name = name\n",
        "      self.__marks = marks\n",
        "      self.__place = place\n",
        "\n",
        "    def set_method(self,name,marks):\n",
        "      self.__name = name\n",
        "      self.__marks = marks\n",
        "\n",
        "    def get_name(self):\n",
        "      return self.__name\n",
        "\n",
        "    def get_marks(self):\n",
        "      return self.__marks\n",
        "\n",
        "    def get_place(self):\n",
        "      return self.__place\n",
        "\n",
        "\n",
        "Obj = Student(\"Owais\",90,\"Belgavi\")\n",
        "Obj.set_method(\"Rehan\",68)\n",
        "print(Obj.get_name())\n",
        "print(Obj.get_marks())\n"
      ],
      "metadata": {
        "colab": {
          "base_uri": "https://localhost:8080/"
        },
        "id": "ALGCPKzRN6Wy",
        "outputId": "e63103e0-70e4-41b1-ed57-dc94af895d10"
      },
      "execution_count": 78,
      "outputs": [
        {
          "output_type": "stream",
          "name": "stdout",
          "text": [
            "Rehan\n",
            "68\n"
          ]
        }
      ]
    },
    {
      "cell_type": "code",
      "source": [
        "class Student :\n",
        "    def __init__(self,name,marks):\n",
        "      self.__name = name\n",
        "      self.__marks = marks\n",
        "    def set(self,name,marks):\n",
        "      self.__name = name\n",
        "      self.__marks = marks\n",
        "    def get(self):\n",
        "      return self.__name\n",
        "\n",
        "\n",
        "Obj = Student(\"Owais\",90)\n",
        "Obj.set(\"Rehan\",68)\n",
        "print(Obj.get())"
      ],
      "metadata": {
        "colab": {
          "base_uri": "https://localhost:8080/"
        },
        "id": "zr2lR7MbURQg",
        "outputId": "509e271f-5613-4e21-996e-fecd60dccceb"
      },
      "execution_count": 85,
      "outputs": [
        {
          "output_type": "stream",
          "name": "stdout",
          "text": [
            "Rehan\n"
          ]
        }
      ]
    },
    {
      "cell_type": "code",
      "source": [
        "# 1) Single Inheritance\n",
        "class Parent :\n",
        "    def Work(self):\n",
        "        print(\"My parents are doing farming\")\n",
        "\n",
        "class Children(Parent) :\n",
        "  def Study(self):\n",
        "     print(\"I'm studying BCA in BK College\")\n",
        "\n",
        "Ch = Children()\n",
        "Ch.Work()\n",
        "Ch.Study()"
      ],
      "metadata": {
        "colab": {
          "base_uri": "https://localhost:8080/"
        },
        "id": "VDYNQMfLbwdZ",
        "outputId": "24997386-bdbf-4665-e23a-44c13a55e9a0"
      },
      "execution_count": 87,
      "outputs": [
        {
          "output_type": "stream",
          "name": "stdout",
          "text": [
            "My parents are doing farming\n",
            "I'm studying BCA in BK College\n"
          ]
        }
      ]
    },
    {
      "cell_type": "code",
      "source": [
        "# Multiple Inheritance\n",
        "class Father :\n",
        "    def Hi(self):\n",
        "        print(\"My father is my first hero\")\n",
        "\n",
        "class Mother :\n",
        "    def Hello(self):\n",
        "        print(\"My mother is a housewife\")\n",
        "\n",
        "class Child(Father, Mother):\n",
        "    def Bye(self):\n",
        "        print(\"I'm working as a Freelancer\")\n",
        "\n",
        "Obj = Child()\n",
        "Obj.Hi()\n",
        "Obj.Hello()\n",
        "Obj.Bye()"
      ],
      "metadata": {
        "colab": {
          "base_uri": "https://localhost:8080/"
        },
        "id": "kKDSz0yGdRPf",
        "outputId": "9d60dea7-1fcd-469b-fd94-37493f335781"
      },
      "execution_count": 88,
      "outputs": [
        {
          "output_type": "stream",
          "name": "stdout",
          "text": [
            "My father is my first hero\n",
            "My mother is a housewife\n",
            "I'm working as a Freelancer\n"
          ]
        }
      ]
    },
    {
      "cell_type": "code",
      "source": [
        "# Multi Level Inheritance\n",
        "class Grand_Parents :\n",
        "   def Moon(self):\n",
        "       print(\"🌛🌛🌛🌛🌛\")\n",
        "\n",
        "class Parents (Grand_Parents) :\n",
        "    def Bear(self):\n",
        "        print(\"🐻🐻🐻🐻🐻\")\n",
        "\n",
        "class Children(Parents):\n",
        "    def Car(self):\n",
        "        print(\"🚗🚗🚗🚗🚗\")\n",
        "\n",
        "C = Children()\n",
        "C.Bear()\n",
        "C.Moon()\n",
        "C.Car()"
      ],
      "metadata": {
        "colab": {
          "base_uri": "https://localhost:8080/"
        },
        "id": "30nnqIy9fH4n",
        "outputId": "24f39dae-6df3-4cf5-fb9e-0125922e27b8"
      },
      "execution_count": 92,
      "outputs": [
        {
          "output_type": "stream",
          "name": "stdout",
          "text": [
            "🐻🐻🐻🐻🐻\n",
            "🌛🌛🌛🌛🌛\n",
            "🚗🚗🚗🚗🚗\n"
          ]
        }
      ]
    },
    {
      "cell_type": "code",
      "source": [
        "# Hirachy Inheritance\n",
        "class Parents :\n",
        "    def Business(self):\n",
        "        print(\"I'm working as a Freelancer\")\n",
        "\n",
        "class Child1(Parents):\n",
        "    def Study(self):\n",
        "        print(\"I'm studying BCA in BK College\")\n",
        "\n",
        "class Child2(Parents):\n",
        "    def Work(self):\n",
        "        print(\"My parents are doing farming\")\n",
        "\n",
        "C1 = Child1()\n",
        "C2 = Child2()\n",
        "C1.Study()\n",
        "C2.Business()"
      ],
      "metadata": {
        "colab": {
          "base_uri": "https://localhost:8080/"
        },
        "id": "KKCSNJalidah",
        "outputId": "3d9915c4-6a71-4693-d537-637ca53df8ca"
      },
      "execution_count": 93,
      "outputs": [
        {
          "output_type": "stream",
          "name": "stdout",
          "text": [
            "I'm studying BCA in BK College\n",
            "I'm working as a Freelancer\n"
          ]
        }
      ]
    },
    {
      "cell_type": "code",
      "source": [
        "# Hybrid Inheritance\n",
        "class A :\n",
        "    def Hi(self):\n",
        "        print(\"Hiiiiiiiiiiiiii\")\n",
        "\n",
        "class B(A):\n",
        "    def Hello(self):\n",
        "        print(\"Helloooooooo\")\n",
        "\n",
        "class C(A):\n",
        "    def Bye(self):\n",
        "        print(\"Byeeeeeeeeee\")\n",
        "\n",
        "class D(B,C):\n",
        "    def Good(self):\n",
        "        print(\"Gooddddddddd\")\n",
        "\n",
        "Obj = D()\n",
        "Obj.Hi()\n",
        "Obj.Hello()\n",
        "Obj.Bye()\n",
        "Obj.Good()"
      ],
      "metadata": {
        "colab": {
          "base_uri": "https://localhost:8080/"
        },
        "id": "HmNUokatnLeI",
        "outputId": "29d9f90c-2cf3-458a-a020-3db334d2dde3"
      },
      "execution_count": 94,
      "outputs": [
        {
          "output_type": "stream",
          "name": "stdout",
          "text": [
            "Hiiiiiiiiiiiiii\n",
            "Helloooooooo\n",
            "Byeeeeeeeeee\n",
            "Gooddddddddd\n"
          ]
        }
      ]
    }
  ]
}