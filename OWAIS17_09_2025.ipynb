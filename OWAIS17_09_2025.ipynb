{
  "nbformat": 4,
  "nbformat_minor": 0,
  "metadata": {
    "colab": {
      "provenance": []
    },
    "kernelspec": {
      "name": "python3",
      "display_name": "Python 3"
    },
    "language_info": {
      "name": "python"
    }
  },
  "cells": [
    {
      "cell_type": "code",
      "execution_count": 5,
      "metadata": {
        "colab": {
          "base_uri": "https://localhost:8080/"
        },
        "id": "n8vjth1R0K6o",
        "outputId": "fbc11d5a-2bfd-4aad-84c3-371a2434cc09"
      },
      "outputs": [
        {
          "output_type": "stream",
          "name": "stdout",
          "text": [
            "C is a largest number 40\n"
          ]
        }
      ],
      "source": [
        "a ,b,c = 25,35,40\n",
        "if a > b :\n",
        "  if a > c :\n",
        "    print(\"A is a largest number\",a)\n",
        "  else :\n",
        "    print(\"C is a largest number\",c)\n",
        "else :\n",
        "  if b > c :\n",
        "    print(\"B is a largest number\",b)\n",
        "  else :\n",
        "    print(\"C is a largest number\",c)"
      ]
    },
    {
      "cell_type": "code",
      "source": [
        "num = int(input(\"Enter a number value is : \"))\n",
        "if num > 0 :\n",
        "  if num == 0 :\n",
        "    print(\"Zero\")\n",
        "  else :\n",
        "    print(\"Positive number\")\n",
        "else :\n",
        "  print(\"Negative number\")"
      ],
      "metadata": {
        "colab": {
          "base_uri": "https://localhost:8080/"
        },
        "id": "swG1IsxH4UZd",
        "outputId": "8486d152-067b-44f6-a44f-e6326b50e875"
      },
      "execution_count": 14,
      "outputs": [
        {
          "output_type": "stream",
          "name": "stdout",
          "text": [
            "Enter a number value is : 0\n",
            "Negative number\n"
          ]
        }
      ]
    },
    {
      "cell_type": "code",
      "source": [
        "# Write a programe arithmetic operator using switch statement\n",
        "x, y = 10, 20\n",
        "option = int(input(\"Enter your choice option :\"))\n",
        "match option :\n",
        "  case 1 :\n",
        "    print(x + y)\n",
        "  case 2 :\n",
        "    print(x - y)\n",
        "  case 3 :\n",
        "    print(x * y)\n",
        "  case 4 :\n",
        "    print(x / y)\n",
        "  case 5 :\n",
        "    print(x % y)\n",
        "  case 6 :\n",
        "    print(x != y)\n",
        "  case _ :\n",
        "    print(\"Invalid choice\")"
      ],
      "metadata": {
        "colab": {
          "base_uri": "https://localhost:8080/"
        },
        "id": "6e9Tdnhs8gOc",
        "outputId": "4cb682b3-0687-45ce-9df2-5b4359505920"
      },
      "execution_count": 29,
      "outputs": [
        {
          "output_type": "stream",
          "name": "stdout",
          "text": [
            "Enter your choice option :6\n",
            "True\n"
          ]
        }
      ]
    },
    {
      "cell_type": "code",
      "source": [
        "day = int(input(\"Enter your choice option :\"))\n",
        "match option :\n",
        "  case 1 :\n",
        "    print(\"Monday\")\n",
        "  case 2 :\n",
        "    print(\"Tuesday\")\n",
        "  case 3 :\n",
        "    print(\"Wednesday\")\n",
        "  case 4 :\n",
        "    print(\"Thursday\")\n",
        "  case 5 :\n",
        "    print(\"Friday\")\n",
        "  case 6 :\n",
        "    print(\"Saturday\")\n",
        "  case 7 :\n",
        "    print(\"Sunday\")\n",
        "  case _ :\n",
        "    print(\"Holiday\")"
      ],
      "metadata": {
        "colab": {
          "base_uri": "https://localhost:8080/"
        },
        "id": "PtqGgVHkDGYT",
        "outputId": "748bce3f-a7d2-43da-b5f1-4ae31064e95e"
      },
      "execution_count": 32,
      "outputs": [
        {
          "output_type": "stream",
          "name": "stdout",
          "text": [
            "Enter your choice option :8\n",
            "Holiday\n"
          ]
        }
      ]
    },
    {
      "cell_type": "code",
      "source": [
        "months = int(input(\"Enter your choice option :\"))\n",
        "match months :\n",
        "  case 1 :\n",
        "    print(\"January\")\n",
        "  case 2 :\n",
        "    print(\"February\")\n",
        "  case 3 :\n",
        "    print(\"March\")\n",
        "  case 4 :\n",
        "    print(\"April\")\n",
        "  case 5 :\n",
        "    print(\"May\")\n",
        "  case 6 :\n",
        "    print(\"June\")\n",
        "  case 7 :\n",
        "    print(\"July\")\n",
        "  case 8 :\n",
        "    print(\"August\")\n",
        "  case 9 :\n",
        "    print(\"September\")\n",
        "  case 10 :\n",
        "    print(\"October\")\n",
        "  case 11 :\n",
        "    print(\"November\")\n",
        "  case 12 :\n",
        "    print(\"December\")\n",
        "  case _ :\n",
        "    print(\"Invalid choice\")"
      ],
      "metadata": {
        "colab": {
          "base_uri": "https://localhost:8080/"
        },
        "id": "IJKHM2V8GETS",
        "outputId": "c3781551-a776-43c2-b9e7-dadbf0feab1f"
      },
      "execution_count": 44,
      "outputs": [
        {
          "output_type": "stream",
          "name": "stdout",
          "text": [
            "Enter your choice option :1\n",
            "January\n"
          ]
        }
      ]
    },
    {
      "cell_type": "code",
      "source": [
        "i = 1\n",
        "while i <= 60 :\n",
        "   print(i,end= \" \")\n",
        "   i += 1"
      ],
      "metadata": {
        "colab": {
          "base_uri": "https://localhost:8080/"
        },
        "id": "Rmlmu0RkKR3K",
        "outputId": "5d8587e4-ab9f-46d4-8929-baf91db000d8"
      },
      "execution_count": 37,
      "outputs": [
        {
          "output_type": "stream",
          "name": "stdout",
          "text": [
            "1 2 3 4 5 6 7 8 9 10 11 12 13 14 15 16 17 18 19 20 21 22 23 24 25 26 27 28 29 30 31 32 33 34 35 36 37 38 39 40 41 42 43 44 45 46 47 48 49 50 51 52 53 54 55 56 57 58 59 60 "
          ]
        }
      ]
    },
    {
      "cell_type": "code",
      "source": [
        "num = 5\n",
        "i = 1\n",
        "while i <= 10 :\n",
        "  print(\"5 *\",i,\"=\",num*i)\n",
        "  i = i + 1"
      ],
      "metadata": {
        "colab": {
          "base_uri": "https://localhost:8080/"
        },
        "id": "S97A3_BtL4dZ",
        "outputId": "63c4fde3-c570-4a7a-e86f-d4897925dd6c"
      },
      "execution_count": 41,
      "outputs": [
        {
          "output_type": "stream",
          "name": "stdout",
          "text": [
            "5 * 1 = 5\n",
            "5 * 2 = 10\n",
            "5 * 3 = 15\n",
            "5 * 4 = 20\n",
            "5 * 5 = 25\n",
            "5 * 6 = 30\n",
            "5 * 7 = 35\n",
            "5 * 8 = 40\n",
            "5 * 9 = 45\n",
            "5 * 10 = 50\n"
          ]
        }
      ]
    },
    {
      "cell_type": "code",
      "source": [
        "num = 12321\n",
        "rem = 0\n",
        "sum = 0\n",
        "rev = 0\n",
        "temp = num\n",
        "while num > 0 :\n",
        "  rem = num % 10\n",
        "  rev = rev * 10 + rem\n",
        "  num = num // 10\n",
        "if temp == rev :\n",
        "  print(\"Palindrome number\")\n",
        "else :\n",
        "  print(\"Not Palindrome number\")"
      ],
      "metadata": {
        "colab": {
          "base_uri": "https://localhost:8080/"
        },
        "id": "3tAosETYToso",
        "outputId": "c03248d4-b21b-4088-b304-711bf7588e5a"
      },
      "execution_count": 53,
      "outputs": [
        {
          "output_type": "stream",
          "name": "stdout",
          "text": [
            "Palindrome number\n"
          ]
        }
      ]
    },
    {
      "cell_type": "code",
      "source": [
        "i = 2\n",
        "while i <=100 :\n",
        "  print(i, end = \" \")\n",
        "  i+=2"
      ],
      "metadata": {
        "colab": {
          "base_uri": "https://localhost:8080/"
        },
        "id": "l1bqPKi6dbO4",
        "outputId": "611c8185-2607-4649-ef66-00df49f77fcb"
      },
      "execution_count": 55,
      "outputs": [
        {
          "output_type": "stream",
          "name": "stdout",
          "text": [
            "2 4 6 8 10 12 14 16 18 20 "
          ]
        }
      ]
    },
    {
      "cell_type": "code",
      "source": [
        "i = 1\n",
        "while i <=100 :\n",
        "  print(i, end = \" \")\n",
        "  i+=2"
      ],
      "metadata": {
        "colab": {
          "base_uri": "https://localhost:8080/"
        },
        "id": "THslrwtbd-F8",
        "outputId": "507c475c-5fb9-45c0-df3f-9e0fa8111c2e"
      },
      "execution_count": 56,
      "outputs": [
        {
          "output_type": "stream",
          "name": "stdout",
          "text": [
            "1 3 5 7 9 11 13 15 17 19 21 23 25 27 29 31 33 35 37 39 41 43 45 47 49 51 53 55 57 59 61 63 65 67 69 71 73 75 77 79 81 83 85 87 89 91 93 95 97 99 "
          ]
        }
      ]
    },
    {
      "cell_type": "code",
      "source": [
        "num = int(input(\"Enter a number value\"))\n",
        "count = 0\n",
        "i = 1\n",
        "while i <=1 :\n",
        "  if num % i == 0:\n",
        "    count+=1\n",
        "  i+=1\n",
        "if count == 2 :\n",
        "  print(\"The number is prime\")\n",
        "else :\n",
        "  print(\"The number is not prime\")"
      ],
      "metadata": {
        "colab": {
          "base_uri": "https://localhost:8080/"
        },
        "id": "gDFFiH3BgHRs",
        "outputId": "18d7da0d-f09a-4644-eb79-ce782ac1b135"
      },
      "execution_count": 59,
      "outputs": [
        {
          "output_type": "stream",
          "name": "stdout",
          "text": [
            "Enter a number value2\n",
            "The number is not prime\n"
          ]
        }
      ]
    },
    {
      "cell_type": "code",
      "source": [
        "num = 10\n",
        "i = 0\n",
        "while num >= i :\n",
        "  print(num, end=\" \")\n",
        "  num-=1\n",
        ""
      ],
      "metadata": {
        "colab": {
          "base_uri": "https://localhost:8080/"
        },
        "id": "5DaFOxrnhVh_",
        "outputId": "f966cf7d-4c7b-4cce-a88a-68b9759e0681"
      },
      "execution_count": 60,
      "outputs": [
        {
          "output_type": "stream",
          "name": "stdout",
          "text": [
            "10 9 8 7 6 5 4 3 2 1 0 "
          ]
        }
      ]
    },
    {
      "cell_type": "code",
      "source": [
        "i = 10\n",
        "while i <= 1280 :\n",
        "  print(i,end=\" \")\n",
        "  i*=2"
      ],
      "metadata": {
        "colab": {
          "base_uri": "https://localhost:8080/"
        },
        "id": "GhXCsVWUh2DI",
        "outputId": "70ae837b-b00a-430e-8eb3-21a0c0875f14"
      },
      "execution_count": 62,
      "outputs": [
        {
          "output_type": "stream",
          "name": "stdout",
          "text": [
            "10 20 40 80 160 320 640 1280 "
          ]
        }
      ]
    },
    {
      "cell_type": "code",
      "source": [
        "Colours = ['Blue','Red','Pink','Black']\n",
        "for i in Colours :\n",
        "  print (i)"
      ],
      "metadata": {
        "colab": {
          "base_uri": "https://localhost:8080/"
        },
        "id": "4PjL2TfD085P",
        "outputId": "a4c0b6e6-cb8f-4244-a22d-e0e2b80e2afb"
      },
      "execution_count": 65,
      "outputs": [
        {
          "output_type": "stream",
          "name": "stdout",
          "text": [
            "Blue\n",
            "Red\n",
            "Pink\n",
            "Black\n"
          ]
        }
      ]
    },
    {
      "cell_type": "code",
      "source": [
        "numbers = {1,2,3,4,5,6,6,7,8,8,9}\n",
        "for i in numbers :\n",
        "  print(i)"
      ],
      "metadata": {
        "colab": {
          "base_uri": "https://localhost:8080/"
        },
        "id": "__C79aoB44O-",
        "outputId": "1df86538-c1ef-45df-a1f5-55c11229a232"
      },
      "execution_count": 67,
      "outputs": [
        {
          "output_type": "stream",
          "name": "stdout",
          "text": [
            "1\n",
            "2\n",
            "3\n",
            "4\n",
            "5\n",
            "6\n",
            "7\n",
            "8\n",
            "9\n"
          ]
        }
      ]
    },
    {
      "cell_type": "code",
      "source": [
        "Name = \"KLE BK BCA College Chikodi\"\n",
        "rev = \"\"\n",
        "for i in Name:\n",
        "    rev = i + rev\n",
        "print(rev)"
      ],
      "metadata": {
        "colab": {
          "base_uri": "https://localhost:8080/"
        },
        "id": "nEijnfwX5pPG",
        "outputId": "80e0c365-615e-4b97-9b38-eb7cac42708e"
      },
      "execution_count": 69,
      "outputs": [
        {
          "output_type": "stream",
          "name": "stdout",
          "text": [
            "idokihC egelloC ACB KB ELK\n"
          ]
        }
      ]
    },
    {
      "cell_type": "code",
      "source": [],
      "metadata": {
        "id": "gGD_zZdl7DCn"
      },
      "execution_count": 73,
      "outputs": []
    }
  ]
}