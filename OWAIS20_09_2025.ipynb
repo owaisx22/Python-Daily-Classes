{
  "cells": [
    {
      "cell_type": "markdown",
      "metadata": {
        "id": "view-in-github",
        "colab_type": "text"
      },
      "source": [
        "<a href=\"https://colab.research.google.com/github/owaisx22/Python-Daily-Classes/blob/main/OWAIS20_09_2025.ipynb\" target=\"_parent\"><img src=\"https://colab.research.google.com/assets/colab-badge.svg\" alt=\"Open In Colab\"/></a>"
      ]
    },
    {
      "cell_type": "code",
      "execution_count": 4,
      "metadata": {
        "colab": {
          "base_uri": "https://localhost:8080/"
        },
        "id": "ZqVvOSsARnPM",
        "outputId": "b60508fa-529c-4fa4-be16-11e948bce46f"
      },
      "outputs": [
        {
          "output_type": "stream",
          "name": "stdout",
          "text": [
            "5\n",
            "25\n",
            "-2\n",
            "91\n"
          ]
        }
      ],
      "source": [
        "# Compile time / Method Overloading Polymorphism\n",
        "class BCA_1st_Semester :\n",
        "    def student(self,a,b=0,c=0,d=0):\n",
        "        return a+b+c+d\n",
        "\n",
        "BCA = BCA_1st_Semester()\n",
        "print(BCA.student(5))\n",
        "print(BCA.student(10,7,8))\n",
        "print(BCA.student(-10,4,9,-5))\n",
        "print(BCA.student(99,0,4,-12))"
      ]
    },
    {
      "cell_type": "code",
      "execution_count": 5,
      "metadata": {
        "colab": {
          "base_uri": "https://localhost:8080/"
        },
        "id": "YtMBU2exeJ-b",
        "outputId": "7f01c581-9423-4777-fa5b-d3ea8e4dbf9f"
      },
      "outputs": [
        {
          "output_type": "stream",
          "name": "stdout",
          "text": [
            "Bow Bow Bow Bow\n",
            "Meow Meow Meow\n",
            "Roar Roar Roar\n",
            "Ambbbbbaaaaaa\n"
          ]
        }
      ],
      "source": [
        "class Animal :\n",
        "    def sound(self):\n",
        "        print(\"Animal makes a sound\")\n",
        "\n",
        "class Dog(Animal):\n",
        "    def sound(self):\n",
        "        print(\"Bow Bow Bow Bow\")\n",
        "\n",
        "class Cat(Animal):\n",
        "    def sound(self):\n",
        "        print(\"Meow Meow Meow\")\n",
        "\n",
        "class Tiger(Animal):\n",
        "    def sound(self):\n",
        "        print(\"Roar Roar Roar\")\n",
        "\n",
        "class Cow(Animal):\n",
        "    def sound(self):\n",
        "        print(\"Ambbbbbaaaaaa\")\n",
        "\n",
        "\n",
        "dog = Dog()\n",
        "cat = Cat()\n",
        "tiger = Tiger()\n",
        "cow = Cow()\n",
        "\n",
        "dog.sound()\n",
        "cat.sound()\n",
        "tiger.sound()\n",
        "cow.sound()"
      ]
    },
    {
      "cell_type": "code",
      "execution_count": 6,
      "metadata": {
        "colab": {
          "base_uri": "https://localhost:8080/"
        },
        "id": "xeJL77fAjzua",
        "outputId": "41f7bebb-52a6-4970-8747-09c72891d1a9"
      },
      "outputs": [
        {
          "output_type": "stream",
          "name": "stdout",
          "text": [
            "Total pages is 500\n"
          ]
        }
      ],
      "source": [
        "from typing_extensions import Self\n",
        "class Book :\n",
        "    def __init__(self,page):\n",
        "       self.page = page\n",
        "    def __add__(self,other):\n",
        "       return self.page + other.page\n",
        "\n",
        "Obj1 = Book(200)\n",
        "Obj2 = Book(300)\n",
        "print(\"Total pages is\",Obj1 + Obj2)"
      ]
    },
    {
      "cell_type": "code",
      "execution_count": 7,
      "metadata": {
        "colab": {
          "base_uri": "https://localhost:8080/"
        },
        "id": "ZPXnhArvnzIZ",
        "outputId": "b990e1a9-ffb5-46a9-86e7-8db05ae229c2"
      },
      "outputs": [
        {
          "output_type": "stream",
          "name": "stdout",
          "text": [
            "I'm driving a Car\n"
          ]
        }
      ],
      "source": [
        "# Abstraction Example\n",
        "from abc import ABC, abstractmethod\n",
        "class Vehicle(ABC):\n",
        "    def sound(self):\n",
        "        pass\n",
        "\n",
        "class Car (Vehicle):\n",
        "    def sound(self):\n",
        "        print(\"I'm driving a Car\")\n",
        "\n",
        "\n",
        "Obj = Car()\n",
        "Obj.sound()\n"
      ]
    },
    {
      "cell_type": "code",
      "execution_count": 8,
      "metadata": {
        "colab": {
          "base_uri": "https://localhost:8080/"
        },
        "id": "4aJrYITTpRJK",
        "outputId": "8f2dd31a-0827-4b23-f7a1-f8549893ea93"
      },
      "outputs": [
        {
          "output_type": "stream",
          "name": "stdout",
          "text": [
            "I am win the game\n",
            "your loosing the game red team is in a lead\n",
            "I'm doing work\n"
          ]
        }
      ],
      "source": [
        "# Abstraction Example\n",
        "from abc import ABC, abstractmethod\n",
        "class Fruit(ABC):\n",
        "\n",
        "    # Normal function / Method\n",
        "    def Acting(self):\n",
        "        print(\"I'm doing work\")\n",
        "\n",
        "    # Abstract Method / Function\n",
        "    @abstractmethod\n",
        "    def BGMI(self):\n",
        "        pass\n",
        "\n",
        "    # Normal Function / Method\n",
        "    def Ludo_King(self):\n",
        "        print(\"I am win the game\")\n",
        "\n",
        "class Mango(Fruit):\n",
        "    #BGMI function implemented by sub class\n",
        "    def BGMI(self):\n",
        "        print(\"your loosing the game red team is in a lead\")\n",
        "\n",
        "Obj = Mango()\n",
        "Obj.Ludo_King()\n",
        "Obj.BGMI()\n",
        "Obj.Acting()"
      ]
    },
    {
      "cell_type": "code",
      "execution_count": null,
      "metadata": {
        "colab": {
          "base_uri": "https://localhost:8080/"
        },
        "id": "Grl2Zv9g13CB",
        "outputId": "4c50461c-4e53-491e-9db1-82f0c71a60b4"
      },
      "outputs": [
        {
          "output_type": "stream",
          "name": "stdout",
          "text": [
            "Welcome to Python Quiz Competition\n",
            "Enter your name:Owais\n",
            "\n",
            "1)Which of the following is a valid variable name?\n",
            "a. 1var\n",
            "b. var1\n",
            "c. var-1\n",
            "d. var 1\n",
            "Enter your choice (a/b/c/d): a\n",
            "✖️Wrong Answer!\n",
            "\n",
            "2)What is the output of:x=5;x+=3;print(x)\n",
            "a. 8\n",
            "b. 53\n",
            "c. 5\n",
            "d. Error\n",
            "Enter your choice (a/b/c/d): b\n",
            "✖️Wrong Answer!\n",
            "\n",
            "3)Which of the following is immutable?\n",
            "a. List\n",
            "b. Set\n",
            "c. Tuple\n",
            "d. Dictionary\n",
            "Enter your choice (a/b/c/d): c\n",
            "✅Correct Answer!\n",
            "\n",
            "4)Type of 3.14 in Python?\n",
            "a. int\n",
            "b. float\n",
            "c. complex\n",
            "d. double\n",
            "Enter your choice (a/b/c/d): d\n",
            "✖️Wrong Answer!\n",
            "\n",
            "5)Which of these is a dictionary?\n",
            "a. [1,2,3]\n",
            "b. (1,2,3)\n",
            "c. {'a':1}\n",
            "d. {1,2,3}\n",
            "Enter your choice (a/b/c/d): e\n",
            "✖️Invalid Choice\n",
            "\n",
            "6)What is outpu of len({1,2,3,4})?\n",
            "a. 3\n",
            "b. 4\n",
            "c. Error\n",
            "d. 0\n"
          ]
        }
      ],
      "source": [
        "# Quiz Competition\n",
        "def ask_question(question, options, answer):\n",
        "    print(\"\\n\"+ question)\n",
        "    for key, value in options.items():\n",
        "        print(f\"{key}. {value}\")\n",
        "\n",
        "    user_choice = input(\"Enter your choice (a/b/c/d): \").lower()\n",
        "\n",
        "    match user_choice:\n",
        "        case 'a'|'b'|'c'|'d':\n",
        "            if user_choice == answer:\n",
        "                print(\"✅Correct Answer!\")\n",
        "                return 1\n",
        "            else:\n",
        "                print(\"✖️Wrong Answer!\")\n",
        "                return 0\n",
        "\n",
        "        case _:\n",
        "            print(\"✖️Invalid Choice\")\n",
        "            return 0\n",
        "\n",
        "print(\"Welcome to Python Quiz Competition\")\n",
        "player_name=input(\"Enter your name:\")\n",
        "score=0\n",
        "questions=[\n",
        "    {\"q\":\"1)Which of the following is a valid variable name?\",\"options\":{\"a\":\"1var\",\"b\":\"var1\",\"c\":\"var-1\",\"d\":\"var 1\"},\"ans\":\"b\"},\n",
        "\n",
        "    {\"q\":\"2)What is the output of:x=5;x+=3;print(x)\",\"options\":{\"a\":\"8\",\"b\":\"53\",\"c\":\"5\",\"d\":\"Error\"},\"ans\":\"a\"},\n",
        "\n",
        "    {\"q\":\"3)Which of the following is immutable?\",\"options\":{\"a\":\"List\",\"b\":\"Set\",\"c\":\"Tuple\",\"d\":\"Dictionary\"},\"ans\":\"c\"},\n",
        "\n",
        "    {\"q\":\"4)Type of 3.14 in Python?\",\"options\":{\"a\":\"int\",\"b\":\"float\",\"c\":\"complex\",\"d\":\"double\"},\"ans\":\"b\"},\n",
        "\n",
        "    {\"q\":\"5)Which of these is a dictionary?\",\"options\":{\"a\":\"[1,2,3]\",\"b\":\"(1,2,3)\",\"c\":\"{'a':1}\",\"d\":\"{1,2,3}\"},\"ans\":\"c\"}, # Added comma\n",
        "\n",
        "    {\"q\":\"6)What is outpu of len({1,2,3,4})?\",\"options\":{\"a\":\"3\",\"b\":\"4\",\"c\":\"Error\",\"d\":\"0\"},\"ans\":\"b\"}, # Added comma\n",
        "\n",
        "    {\"q\":\"7)Output of 5**2?\",\"options\":{\"a\":\"10\",\"b\":\"25\",\"c\":\"7\",\"d\":\"52\"},\"ans\":\"b\"}, # Added comma\n",
        "\n",
        "    {\"q\":\"8)Which operator is floor division?\",\"options\":{\"a\":\"/\",\"b\":\"//\",\"c\":\"%\",\"d\":\"**\"},\"ans\":\"b\"}, # Added comma\n",
        "\n",
        "    {\"q\":\"9)Output of:if5>3:\\n print('Yes')\",\"options\":{\"a\":\"Yes\",\"b\":\"No\",\"c\":\"Error\",\"d\":\"elifse\"},\"ans\":\"a\"}, # Added comma\n",
        "\n",
        "    {\"q\":\"10)Which keyword is used for else-if?\",\"options\":{\"a\":\"elseif\",\"b\":\"elif\",\"c\":\"else if\",\"d\":\"elifse\"},\"ans\":\"b\"}, # Added comma\n",
        "\n",
        "    {\"q\":\"11)Which loop is used when number of iterations is known?\",\"options\":{\"a\":\"for\",\"b\":\"while\",\"c\":\"do-while\",\"d\":\"None\"},\"ans\":\"a\"}, # Added comma\n",
        "\n",
        "    {\"q\":\"12)How to exit a loop immediately?\",\"options\":{\"a\":\"stop\",\"b\":\"break\",\"c\":\"exit\",\"d\":\"return\"},\"ans\":\"b\"}, # Added comma\n",
        "\n",
        "    {\"q\":\"13)Keyword to define a function?\",\"options\":{\"a\":\"function\",\"b\":\"def\",\"c\":\"fun\",\"d\":\"define\"},\"ans\":\"b\"}, # Added comma\n",
        "\n",
        "    {\"q\":\"14)Function that returns nothing?\",\"options\":{\"a\":\"return None\",\"b\":\"void\",\"c\":\"pass\",\"d\":\"All of the above\"},\"ans\":\"a\"}, # Added comma\n",
        "\n",
        "    {\"q\":\"15)Which method is the constructor in Python class?\",\"options\":{\"a\":\"__init__\",\"b\":\"__start__\",\"c\":\"__create__\",\"d\":\"constructor\"},\"ans\":\"a\"}, # Added comma\n",
        "\n",
        "    {\"q\":\"16)Which of these is inheritance example?\",\"options\":{\"a\":\"class A:\\n pass\\nclass B(a):\\n pass\",\"b\":\"x=5\",\"c\":\"def func():pass\",\"d\":\"if True:pass\"},\"ans\":\"a\"}, # Added comma\n",
        "\n",
        "    {\"q\":\"17)What is type of True?\",\"options\":{\"a\":\"int\",\"b\":\"bool\",\"c\":\"str\",\"d\":\"float\"},\"ans\":\"b\"}, # Added comma\n",
        "\n",
        "    {\"q\":\"18)Which collection type allows duplicates?\",\"options\":{\"a\":\"set\",\"b\":\"dict\",\"c\":\"list\",\"d\":\"tuple\"},\"ans\":\"c\"}, # Added comma\n",
        "\n",
        "    {\"q\":\"19)Which collection type is unordered?\",\"options\":{\"a\":\"list\",\"b\":\"tuple\",\"c\":\"set\",\"d\":\"string\"},\"ans\":\"c\"}, # Added comma\n",
        "\n",
        "    {\"q\":\"20)Output of 10%3?\",\"options\":{\"a\":\"3\",\"b\":\"1\",\"c\":\"0\",\"d\":\"Error\"},\"ans\":\"b\"}, # Added comma\n",
        "\n",
        "    {\"q\":\"21)Output of if 5>10:\\n print('Yes')\\nelse:\\n?\",\"options\":{\"a\":\"Yes\",\"b\":\"No\",\"c\":\"Error\",\"d\":\"5>10\"},\"ans\":\"a\"}, # Added comma\n",
        "\n",
        "    {\"q\":\"22)Output of:\\nfor i in range(3):\\n print(i)\",\"options\":{\"a\":\"1 2 3\",\"b\":\"0 1 2\",\"c\":\"0 1 2 3\",\"d\":\"1 2\"},\"ans\":\"b\"}, # Added comma\n",
        "\n",
        "    {\"q\":\"23)Encapsulation in Python is done by?\",\"options\":{\"a\":\"Private Variable\",\"b\":\"Inheritance\",\"c\":\"Polymorphism\",\"d\":\"Abstraction\"},\"ans\":\"a\"}, # Added comma\n",
        "\n",
        "    {\"q\":\"24)Polymorphism means?\",\"options\":{\"a\":\"Multiple forms\",\"b\":\"Single form\",\"c\":\"Inheritance\",\"d\":\"Encapsulation\"},\"ans\":\"a\"}, # Added comma\n",
        "\n",
        "    {\"q\":\"25)Dynamic typing means?\",\"options\":{\"a\":\"Type assigned at runtime\",\"b\":\"Type assigned at compile-time\",\"c\":\"Fixed type\",\"d\":\"Error\"},\"ans\":\"a\"}, # Added comma\n",
        "\n",
        "    {\"q\":\"26)Type of None?\",\"options\":{\"a\":\"int\",\"b\":\"str\",\"c\":\"None Type\",\"d\":\"bool\"},\"ans\":\"c\"}, # Added comma\n",
        "\n",
        "    {\"q\":\"27)How to access 1st element of list 1=[10,20]?\",\"options\":{\"a\":\"1[0]\",\"b\":\"1[1]\",\"c\":\"1[-1]\",\"d\":\"1.first\"},\"ans\":\"a\"}, # Added comma\n",
        "\n",
        "    {\"q\":\"28)Which operator is used for logical AND ?\",\"options\":{\"a\":\"and\",\"b\":\"&\",\"c\":\"&&\",\"d\":\"|\"},\"ans\":\"a\"}, # Added comma\n",
        "\n",
        "    {\"q\":\"29)Output:x=5;print('Yes'ifx>0 else 'No')\",\"options\":{\"a\":\"Yes\",\"b\":\"No\",\"c\":\"Error\",\"d\":\"5\"},\"ans\":\"a\"}, # Added comma\n",
        "\n",
        "    {\"q\":\"30)Output:\\ni=0\\nwhile i<3:\\n print(i)n i+=1\",\"options\":{\"a\":\"0 1 2\",\"b\":\"1 2 3\",\"c\":\"0 1 2 3\",\"d\":\"Error\"},\"ans\":\"a\"}, # Added comma\n",
        "\n",
        "    {\"q\":\"31)Which returns a value?\",\"options\":{\"a\":\"print()\",\"b\":\"return\",\"c\":\"pass\",\"d\":\"input()\"},\"ans\":\"b\"}, # Added comma\n",
        "\n",
        "    {\"q\":\"32)Abstraction means?\",\"options\":{\"a\":\"Hiding implementation\",\"b\":\"Overloading\",\"c\":\"Inheritance\",\"d\":\"\"},\"ans\":\"a\"}, # Added comma\n",
        "\n",
        "    {\"q\":\"33)Which is mutable string type?\",\"options\":{\"a\":\"str\",\"b\":\"list\",\"c\":\"tuple\",\"d\":\"int\"},\"ans\":\"b\"}, # Added comma\n",
        "\n",
        "    {\"q\":\"34)Which keyword is used to inhert?\",\"options\":{\"a\":\"inherits\",\"b\":\"super\",\"c\":\"classB(A)\",\"d\":\"extends\"},\"ans\":\"c\"}, # Added comma\n",
        "\n",
        "    {\"q\":\"35)Output of bool(\\\"\\\")?\",\"options\":{\"a\":\"True\",\"b\":\"False\",\"c\":\"None\",\"d\":\"Error\"},\"ans\":\"b\"}, # Added comma\n",
        "\n",
        "    {\"q\":\"36)How to create tuple with single element ?\",\"options\":{\"a\":\"(1)\",\"b\":\"(1,)\",\"c\":\"[1]\",\"d\":\"{1}\"},\"ans\":\"b\"}, # Added comma\n",
        "\n",
        "    {\"q\":\"37)Output of 2*3**2?\",\"options\":{\"a\":\"36\",\"b\":\"18\",\"c\":\"12\",\"d\":\"none\"},\"ans\":\"b\"}, # Added comma\n",
        "\n",
        "    {\"q\":\"38)Which of these is not keyword?\",\"options\":{\"a\":\"pass\",\"b\":\"eval\",\"c\":\"assert\",\"d\":\"return\"},\"ans\":\"b\"}, # Added comma\n",
        "\n",
        "    {\"q\":\"39)Which method converts string to lowercase?\",\"options\":{\"a\":\"llower()\",\"b\":\"up()\",\"c\":\"capitalize()\",\"d\":\"lowercase()\"},\"ans\":\"a\"}, # Added comma\n",
        "\n",
        "    {\"q\":\"40)Which collection stores key-value pairs?\",\"options\":{\"a\":\"list\",\"b\":\"tuple\",\"c\":\"dict\",\"d\":\"set\"},\"ans\":\"c\"}\n",
        "]\n",
        "for item in questions:\n",
        "    score += ask_question(item[\"q\"], item[\"options\"], item[\"ans\"])\n",
        "\n",
        "print(f\"\\n🎉 {player_name}, your final score is: {score}/{len(questions)} 🎉\")"
      ]
    }
  ],
  "metadata": {
    "colab": {
      "provenance": [],
      "gpuType": "V5E1",
      "authorship_tag": "ABX9TyNdjKcEavsWfbsK2o+N8ZR1",
      "include_colab_link": true
    },
    "kernelspec": {
      "display_name": "Python 3",
      "name": "python3"
    },
    "language_info": {
      "name": "python"
    },
    "accelerator": "TPU"
  },
  "nbformat": 4,
  "nbformat_minor": 0
}