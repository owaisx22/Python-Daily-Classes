{
  "nbformat": 4,
  "nbformat_minor": 0,
  "metadata": {
    "colab": {
      "provenance": []
    },
    "kernelspec": {
      "name": "python3",
      "display_name": "Python 3"
    },
    "language_info": {
      "name": "python"
    }
  },
  "cells": [
    {
      "cell_type": "code",
      "source": [
        "print(\"Hello world \" *3)"
      ],
      "metadata": {
        "colab": {
          "base_uri": "https://localhost:8080/"
        },
        "id": "yRL7EKlpI70b",
        "outputId": "9b39c5c0-1874-40ca-fdef-e493b1b6ebb7"
      },
      "execution_count": null,
      "outputs": [
        {
          "output_type": "stream",
          "name": "stdout",
          "text": [
            "Hello world Hello world Hello world \n"
          ]
        }
      ]
    },
    {
      "cell_type": "code",
      "source": [
        "print(\"Python programming language \\n\" *5)"
      ],
      "metadata": {
        "colab": {
          "base_uri": "https://localhost:8080/"
        },
        "id": "eCL1MSFRJWzp",
        "outputId": "58a34e5d-c337-4ff5-ccef-8fcf74d08751"
      },
      "execution_count": null,
      "outputs": [
        {
          "output_type": "stream",
          "name": "stdout",
          "text": [
            "Python programming language \n",
            "Python programming language \n",
            "Python programming language \n",
            "Python programming language \n",
            "Python programming language \n",
            "\n"
          ]
        }
      ]
    },
    {
      "cell_type": "code",
      "source": [
        "print(\"My name is Mohammadowais Shaikh , i am from Chikodi, i have completed my 2nd pu in govt college examba, now i am studying bca in bk bba bca college chikodi\" )\n"
      ],
      "metadata": {
        "colab": {
          "base_uri": "https://localhost:8080/"
        },
        "id": "XgmTebCOKDHU",
        "outputId": "0b87d319-cbec-4536-c58b-b7fb9c4d7857"
      },
      "execution_count": null,
      "outputs": [
        {
          "output_type": "stream",
          "name": "stdout",
          "text": [
            "My name is Mohammadowais Shaikh , i am from Chikodi, i have completed my 2nd pu in govt college examba, now i am studying bca in bk bba bca college chikodi\n"
          ]
        }
      ]
    },
    {
      "cell_type": "code",
      "source": [
        "print(\"Hello \" + \"world\")"
      ],
      "metadata": {
        "colab": {
          "base_uri": "https://localhost:8080/"
        },
        "id": "ena7oRC8L1x7",
        "outputId": "51d2a7bf-2c84-4f62-abe0-b53f4ae87ba0"
      },
      "execution_count": null,
      "outputs": [
        {
          "output_type": "stream",
          "name": "stdout",
          "text": [
            "Hello world\n"
          ]
        }
      ]
    },
    {
      "cell_type": "code",
      "source": [
        "print(\"Good morning \\n\" *10)"
      ],
      "metadata": {
        "colab": {
          "base_uri": "https://localhost:8080/"
        },
        "id": "-mfVJHnuM5hc",
        "outputId": "f9835605-ff3e-4e53-8e41-3b88e4143164"
      },
      "execution_count": null,
      "outputs": [
        {
          "output_type": "stream",
          "name": "stdout",
          "text": [
            "Good morning \n",
            "Good morning \n",
            "Good morning \n",
            "Good morning \n",
            "Good morning \n",
            "Good morning \n",
            "Good morning \n",
            "Good morning \n",
            "Good morning \n",
            "Good morning \n",
            "\n"
          ]
        }
      ]
    },
    {
      "cell_type": "code",
      "source": [
        "print(\" Urdu  30\\n IC    21\\n CCP   30\\n DBMS  23\\n Eng   23\\n Acc   21\\n \")"
      ],
      "metadata": {
        "colab": {
          "base_uri": "https://localhost:8080/"
        },
        "id": "Qbq0Dit9OJXW",
        "outputId": "bc95d3b0-f2b9-4f18-aee1-fe38f2d9329e"
      },
      "execution_count": null,
      "outputs": [
        {
          "output_type": "stream",
          "name": "stdout",
          "text": [
            " Urdu  30\n",
            " IC    21\n",
            " CCP   30\n",
            " DBMS  23\n",
            " Eng   23\n",
            " Acc   21\n",
            " \n"
          ]
        }
      ]
    },
    {
      "cell_type": "code",
      "source": [
        "print(\"Urdu     30\")\n",
        "print(\"IC       21\")\n",
        "print(\"CCP      30\")\n",
        "print(\"DBMS     23\")\n",
        "print(\"English  23\")\n",
        "print(\"Account  21\")"
      ],
      "metadata": {
        "colab": {
          "base_uri": "https://localhost:8080/"
        },
        "id": "LW7FuciQQOT2",
        "outputId": "531d6ec8-f65c-45eb-b515-793d2b158bf2"
      },
      "execution_count": null,
      "outputs": [
        {
          "output_type": "stream",
          "name": "stdout",
          "text": [
            "Urdu     30\n",
            "IC       21\n",
            "CCP      30\n",
            "DBMS     23\n",
            "English  23\n",
            "Account  21\n"
          ]
        }
      ]
    },
    {
      "cell_type": "code",
      "source": [
        "_N_A_M_E = \"Computer\"\n",
        "print(_N_A_M_E)"
      ],
      "metadata": {
        "colab": {
          "base_uri": "https://localhost:8080/"
        },
        "id": "YUlaOo8MVqfZ",
        "outputId": "8748b6f3-e720-4ddc-e5b9-1b4e43d913f9"
      },
      "execution_count": null,
      "outputs": [
        {
          "output_type": "stream",
          "name": "stdout",
          "text": [
            "Computer\n"
          ]
        }
      ]
    },
    {
      "cell_type": "code",
      "source": [
        "Age = 30\n",
        "age = 19\n",
        "print(Age, age)"
      ],
      "metadata": {
        "colab": {
          "base_uri": "https://localhost:8080/"
        },
        "id": "cRohePRlWBtw",
        "outputId": "17fc59ad-28dd-48dc-bb73-c8bb7ceaad76"
      },
      "execution_count": null,
      "outputs": [
        {
          "output_type": "stream",
          "name": "stdout",
          "text": [
            "30 19\n"
          ]
        }
      ]
    },
    {
      "cell_type": "code",
      "source": [
        "y = 3.24\n",
        "print(y)"
      ],
      "metadata": {
        "colab": {
          "base_uri": "https://localhost:8080/"
        },
        "id": "uHhtH5ULWj3R",
        "outputId": "183dd56f-6956-4071-88f6-1c528b4ba078"
      },
      "execution_count": null,
      "outputs": [
        {
          "output_type": "stream",
          "name": "stdout",
          "text": [
            "3.24\n"
          ]
        }
      ]
    },
    {
      "cell_type": "code",
      "source": [
        "yes = True\n",
        "print(yes)"
      ],
      "metadata": {
        "colab": {
          "base_uri": "https://localhost:8080/"
        },
        "id": "ieua_YQ0W549",
        "outputId": "ad40826e-5d32-41cc-865e-99d219e9b03d"
      },
      "execution_count": null,
      "outputs": [
        {
          "output_type": "stream",
          "name": "stdout",
          "text": [
            "True\n"
          ]
        }
      ]
    },
    {
      "cell_type": "code",
      "source": [
        "Owais = 2227\n",
        "print(Owais)"
      ],
      "metadata": {
        "colab": {
          "base_uri": "https://localhost:8080/"
        },
        "id": "jA0zx2CWXGNa",
        "outputId": "decd7ca5-a323-48a3-fbc3-20df705b709b"
      },
      "execution_count": null,
      "outputs": [
        {
          "output_type": "stream",
          "name": "stdout",
          "text": [
            "2227\n"
          ]
        }
      ]
    },
    {
      "cell_type": "code",
      "source": [
        "NA_12_ME = \"Owais\"\n",
        "print(NA_12_ME)"
      ],
      "metadata": {
        "colab": {
          "base_uri": "https://localhost:8080/"
        },
        "id": "5y34pzmSXxmj",
        "outputId": "72aa4799-3a68-414a-b441-60a2e3691af6"
      },
      "execution_count": null,
      "outputs": [
        {
          "output_type": "stream",
          "name": "stdout",
          "text": [
            "Owais\n"
          ]
        }
      ]
    },
    {
      "cell_type": "code",
      "source": [
        "Name = \"CCP\"\n",
        "Per = 30\n",
        "print(Name, Per)"
      ],
      "metadata": {
        "colab": {
          "base_uri": "https://localhost:8080/"
        },
        "id": "igFHmeLNYHQc",
        "outputId": "e9c14c82-c8f4-43d1-81c5-c6bb9bd5d06a"
      },
      "execution_count": null,
      "outputs": [
        {
          "output_type": "stream",
          "name": "stdout",
          "text": [
            "CCP 30\n"
          ]
        }
      ]
    },
    {
      "cell_type": "code",
      "source": [
        "#Hello\n",
        "text = \"Good Evening\"\n",
        "address = \"Sayyad galli chikodi\"\n",
        "print(\"\",text )\n"
      ],
      "metadata": {
        "colab": {
          "base_uri": "https://localhost:8080/"
        },
        "id": "hxi1QnjUZGZb",
        "outputId": "25f41be5-0dfc-4af7-ec60-28f4e1c83d14"
      },
      "execution_count": null,
      "outputs": [
        {
          "output_type": "stream",
          "name": "stdout",
          "text": [
            "My name is Owais\n",
            "BKC College\n",
            "2025\n"
          ]
        }
      ]
    }
  ]
}